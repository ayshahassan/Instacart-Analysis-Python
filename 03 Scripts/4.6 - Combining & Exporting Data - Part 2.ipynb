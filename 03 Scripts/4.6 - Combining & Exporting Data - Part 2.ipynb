{
 "cells": [
  {
   "cell_type": "markdown",
   "id": "17685061",
   "metadata": {},
   "source": [
    "# Table of Contents \n",
    "\n",
    "This notebook is Part 2 of Exercise 4.6 and contains the following: \n",
    "\n",
    "* Importing libraries\n",
    "* Turning project path into a string\n",
    "* Importing data set\n",
    "* Checking shape of dataframe \n",
    "* Combining data sets \n",
    "* Confirming results of merge \n",
    "* Exporting merged dataframe "
   ]
  },
  {
   "cell_type": "markdown",
   "id": "05094ba8",
   "metadata": {},
   "source": [
    "# Steps 3 - 8 (from Task / Exercise 4.6)"
   ]
  },
  {
   "cell_type": "markdown",
   "id": "e7c1a0f3",
   "metadata": {},
   "source": [
    "## 01. Importing libraries "
   ]
  },
  {
   "cell_type": "code",
   "execution_count": 1,
   "id": "9d1b178b",
   "metadata": {},
   "outputs": [],
   "source": [
    "# Import libraries\n",
    "import pandas as pd\n",
    "import numpy as np\n",
    "import os"
   ]
  },
  {
   "cell_type": "markdown",
   "id": "7b718c26",
   "metadata": {},
   "source": [
    "## 02. Turning project path into a string"
   ]
  },
  {
   "cell_type": "code",
   "execution_count": 2,
   "id": "1e209b12",
   "metadata": {},
   "outputs": [
    {
     "data": {
      "text/plain": [
       "'/Users/aysha/Documents/Instacart Basket Analysis/'"
      ]
     },
     "execution_count": 2,
     "metadata": {},
     "output_type": "execute_result"
    }
   ],
   "source": [
    "#Turn project folder path into a string\n",
    "\n",
    "'/Users/aysha/Documents/Instacart Basket Analysis/'"
   ]
  },
  {
   "cell_type": "code",
   "execution_count": 3,
   "id": "bb555063",
   "metadata": {},
   "outputs": [],
   "source": [
    "path = r'/Users/aysha/Documents/Instacart Basket Analysis/'"
   ]
  },
  {
   "cell_type": "code",
   "execution_count": 4,
   "id": "87ce840d",
   "metadata": {},
   "outputs": [
    {
     "data": {
      "text/plain": [
       "'/Users/aysha/Documents/Instacart Basket Analysis/'"
      ]
     },
     "execution_count": 4,
     "metadata": {},
     "output_type": "execute_result"
    }
   ],
   "source": [
    "path"
   ]
  },
  {
   "cell_type": "markdown",
   "id": "738e2cab",
   "metadata": {},
   "source": [
    "# Step 3"
   ]
  },
  {
   "cell_type": "markdown",
   "id": "ccd31f01",
   "metadata": {},
   "source": [
    "## In a new notebook, import the orders_products_combined dataframe from the pickle file you just saved."
   ]
  },
  {
   "cell_type": "markdown",
   "id": "ab4c6544",
   "metadata": {},
   "source": [
    "## 03. Importing data set "
   ]
  },
  {
   "cell_type": "code",
   "execution_count": 5,
   "id": "45a02c5e",
   "metadata": {},
   "outputs": [],
   "source": [
    "# Import the “order_products_combined.pkl\" file from Exercise 4.6 (Steps 1 & 2)\n",
    "\n",
    "df_order_products = pd.read_pickle(os.path.join(path, '02 Data', 'Prepared Data', 'orders_products_combined.pkl'))"
   ]
  },
  {
   "cell_type": "markdown",
   "id": "6bf535a7",
   "metadata": {},
   "source": [
    "# Step 4 "
   ]
  },
  {
   "cell_type": "markdown",
   "id": "1ae40907",
   "metadata": {},
   "source": [
    "## Check the shape of the imported dataframe (it should be the same as the one you exported—always check!)."
   ]
  },
  {
   "cell_type": "markdown",
   "id": "ea9df36e",
   "metadata": {},
   "source": [
    "### 04. Check the shape of the imported dataframe"
   ]
  },
  {
   "cell_type": "code",
   "execution_count": 6,
   "id": "58fe54cf",
   "metadata": {},
   "outputs": [
    {
     "data": {
      "text/plain": [
       "(32434489, 11)"
      ]
     },
     "execution_count": 6,
     "metadata": {},
     "output_type": "execute_result"
    }
   ],
   "source": [
    "# Check shape of imported df\n",
    "\n",
    "df_order_products.shape"
   ]
  },
  {
   "cell_type": "markdown",
   "id": "3f26a8a1",
   "metadata": {},
   "source": [
    "### It is the same as the one exported in Step 2 of this task."
   ]
  },
  {
   "cell_type": "markdown",
   "id": "9b3aa611",
   "metadata": {},
   "source": [
    "# Step 5 "
   ]
  },
  {
   "cell_type": "markdown",
   "id": "ea55c9f7",
   "metadata": {},
   "source": [
    "## Determine a suitable way to combine the orders_products_combined dataframe with your products data set. Make sure you’re using your wrangled, cleaned, and deduped products data set stored in your “Prepared Data” folder from the previous Exercise’s task."
   ]
  },
  {
   "cell_type": "code",
   "execution_count": 7,
   "id": "d49969cc",
   "metadata": {},
   "outputs": [],
   "source": [
    "# Import the most up-to-date version of the products data set from the Prepared Data folder \n",
    "# into Jupyter (from last Exercise)\n",
    "\n",
    "df_prods = pd.read_csv(os.path.join(path, '02 Data', 'Prepared Data', 'products_checked.csv'), index_col = False)"
   ]
  },
  {
   "cell_type": "code",
   "execution_count": null,
   "id": "b446f71e",
   "metadata": {},
   "outputs": [],
   "source": [
    "df_prods.head()"
   ]
  },
  {
   "cell_type": "code",
   "execution_count": 9,
   "id": "a59c0fb6",
   "metadata": {},
   "outputs": [
    {
     "data": {
      "text/plain": [
       "(49672, 6)"
      ]
     },
     "execution_count": 9,
     "metadata": {},
     "output_type": "execute_result"
    }
   ],
   "source": [
    "df_prods.shape"
   ]
  },
  {
   "cell_type": "code",
   "execution_count": 10,
   "id": "3ece8b1c",
   "metadata": {},
   "outputs": [],
   "source": [
    "# Reassigning df_prods to df_prods1 (without the unnecessary columns)\n",
    "\n",
    "df_prods1 = df_prods.drop(labels=['Unnamed: 0'], axis=1)"
   ]
  },
  {
   "cell_type": "code",
   "execution_count": null,
   "id": "f847d393",
   "metadata": {},
   "outputs": [],
   "source": [
    "df_prods1"
   ]
  },
  {
   "cell_type": "code",
   "execution_count": 12,
   "id": "7f1a579a",
   "metadata": {},
   "outputs": [
    {
     "data": {
      "text/plain": [
       "(49672, 5)"
      ]
     },
     "execution_count": 12,
     "metadata": {},
     "output_type": "execute_result"
    }
   ],
   "source": [
    "df_prods1.shape"
   ]
  },
  {
   "cell_type": "code",
   "execution_count": null,
   "id": "1732af6f",
   "metadata": {},
   "outputs": [],
   "source": [
    "df_order_products"
   ]
  },
  {
   "cell_type": "code",
   "execution_count": 14,
   "id": "078384ac",
   "metadata": {},
   "outputs": [],
   "source": [
    "# Dropping '_merge' column from 'df_order_products'and reassigning it to df_order_products_combined\n",
    "\n",
    "df_order_products_combined = df_order_products.drop(labels = ['_merge'],axis=1)"
   ]
  },
  {
   "cell_type": "code",
   "execution_count": 15,
   "id": "34f9cde5",
   "metadata": {},
   "outputs": [
    {
     "data": {
      "text/plain": [
       "(32434489, 10)"
      ]
     },
     "execution_count": 15,
     "metadata": {},
     "output_type": "execute_result"
    }
   ],
   "source": [
    "df_order_products_combined.shape"
   ]
  },
  {
   "cell_type": "code",
   "execution_count": null,
   "id": "14aed58f",
   "metadata": {},
   "outputs": [],
   "source": [
    "df_order_products_combined"
   ]
  },
  {
   "cell_type": "code",
   "execution_count": 17,
   "id": "a0d96fd2",
   "metadata": {},
   "outputs": [],
   "source": [
    "# Merging dataframes (df_prods1 to the df_order_products_combined dataframe)\n",
    "\n",
    "df_order_products_merged = df_order_products_combined.merge(df_prods1, on = 'product_id', indicator = True)"
   ]
  },
  {
   "cell_type": "markdown",
   "id": "d286205c",
   "metadata": {},
   "source": [
    "# Step 6 "
   ]
  },
  {
   "cell_type": "markdown",
   "id": "e9fc235d",
   "metadata": {},
   "source": [
    "## Confirm the results of the merge using the merge flag."
   ]
  },
  {
   "cell_type": "code",
   "execution_count": null,
   "id": "10bb7928",
   "metadata": {},
   "outputs": [],
   "source": [
    "df_order_products_merged.head()"
   ]
  },
  {
   "cell_type": "code",
   "execution_count": null,
   "id": "3efdf7ed",
   "metadata": {},
   "outputs": [],
   "source": [
    "# Check frequency of merged df\n",
    "\n",
    "df_order_products_merged['_merge'].value_counts()"
   ]
  },
  {
   "cell_type": "code",
   "execution_count": 21,
   "id": "66d1db07",
   "metadata": {},
   "outputs": [
    {
     "data": {
      "text/plain": [
       "(32404859, 15)"
      ]
     },
     "execution_count": 21,
     "metadata": {},
     "output_type": "execute_result"
    }
   ],
   "source": [
    "# Check shape of merged df\n",
    "\n",
    "df_order_products_merged.shape"
   ]
  },
  {
   "cell_type": "markdown",
   "id": "3e3a2181",
   "metadata": {},
   "source": [
    "# Step 7"
   ]
  },
  {
   "cell_type": "markdown",
   "id": "1ac2020c",
   "metadata": {},
   "source": [
    "## Export the newly created dataframe as orders_products_merged in a suitable format (taking into consideration the size)."
   ]
  },
  {
   "cell_type": "code",
   "execution_count": 22,
   "id": "e51852d3",
   "metadata": {},
   "outputs": [],
   "source": [
    "# Export newly created dataframe to Pickel format (pkl)\n",
    "\n",
    "\n",
    "df_order_products_merged.to_pickle(os.path.join(path, '02 Data','Prepared Data', 'orders_products_merged_revised.pkl'))"
   ]
  },
  {
   "cell_type": "code",
   "execution_count": null,
   "id": "0e1ec876",
   "metadata": {},
   "outputs": [],
   "source": []
  }
 ],
 "metadata": {
  "kernelspec": {
   "display_name": "Python 3 (ipykernel)",
   "language": "python",
   "name": "python3"
  },
  "language_info": {
   "codemirror_mode": {
    "name": "ipython",
    "version": 3
   },
   "file_extension": ".py",
   "mimetype": "text/x-python",
   "name": "python",
   "nbconvert_exporter": "python",
   "pygments_lexer": "ipython3",
   "version": "3.9.12"
  }
 },
 "nbformat": 4,
 "nbformat_minor": 5
}
