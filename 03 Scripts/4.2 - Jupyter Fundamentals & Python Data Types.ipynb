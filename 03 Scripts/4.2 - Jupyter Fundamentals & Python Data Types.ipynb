{
 "cells": [
  {
   "cell_type": "markdown",
   "id": "7c5ab03b",
   "metadata": {},
   "source": [
    "# Table of Contents\n",
    "\n",
    "This notebook contains the following: \n",
    "\n",
    "* Importing libraries\n",
    "* Working with Python data types\n",
    "* Concatenate strings\n",
    "* Short sentence construction with separate strings\n",
    "* Bonus Task \n"
   ]
  },
  {
   "cell_type": "markdown",
   "id": "59c18be5",
   "metadata": {},
   "source": [
    "# 01. Importing libraries"
   ]
  },
  {
   "cell_type": "code",
   "execution_count": 1,
   "id": "6a6b7f0e",
   "metadata": {},
   "outputs": [],
   "source": [
    "# Import libraries\n",
    "import pandas as pd\n",
    "import numpy as np\n",
    "import os"
   ]
  },
  {
   "cell_type": "markdown",
   "id": "0ff03971",
   "metadata": {},
   "source": [
    "# 02. Working with Python data types"
   ]
  },
  {
   "cell_type": "markdown",
   "id": "db5f18e4",
   "metadata": {},
   "source": [
    "### a. Code 3 different ways of reaching a result of 100 by adding or subtracting numeric variables."
   ]
  },
  {
   "cell_type": "code",
   "execution_count": 2,
   "id": "5bb64b6b",
   "metadata": {},
   "outputs": [],
   "source": [
    "a = 60"
   ]
  },
  {
   "cell_type": "code",
   "execution_count": 3,
   "id": "ce822a78",
   "metadata": {},
   "outputs": [],
   "source": [
    "b = 40"
   ]
  },
  {
   "cell_type": "code",
   "execution_count": 4,
   "id": "fd4b933c",
   "metadata": {},
   "outputs": [],
   "source": [
    "c = 20"
   ]
  },
  {
   "cell_type": "code",
   "execution_count": 5,
   "id": "9e5fd1f6",
   "metadata": {},
   "outputs": [],
   "source": [
    "d = 30"
   ]
  },
  {
   "cell_type": "code",
   "execution_count": 6,
   "id": "2bc1ffa9",
   "metadata": {},
   "outputs": [],
   "source": [
    "e = 50"
   ]
  },
  {
   "cell_type": "code",
   "execution_count": 7,
   "id": "b9d7e909",
   "metadata": {},
   "outputs": [],
   "source": [
    "f = 150"
   ]
  },
  {
   "cell_type": "code",
   "execution_count": 8,
   "id": "121fe2fc",
   "metadata": {},
   "outputs": [
    {
     "data": {
      "text/plain": [
       "100"
      ]
     },
     "execution_count": 8,
     "metadata": {},
     "output_type": "execute_result"
    }
   ],
   "source": [
    "a + b"
   ]
  },
  {
   "cell_type": "code",
   "execution_count": 9,
   "id": "87839768",
   "metadata": {},
   "outputs": [
    {
     "data": {
      "text/plain": [
       "100"
      ]
     },
     "execution_count": 9,
     "metadata": {},
     "output_type": "execute_result"
    }
   ],
   "source": [
    "c + d + e"
   ]
  },
  {
   "cell_type": "code",
   "execution_count": 10,
   "id": "189a4e98",
   "metadata": {},
   "outputs": [
    {
     "data": {
      "text/plain": [
       "100"
      ]
     },
     "execution_count": 10,
     "metadata": {},
     "output_type": "execute_result"
    }
   ],
   "source": [
    "f - e "
   ]
  },
  {
   "cell_type": "markdown",
   "id": "166093ac",
   "metadata": {},
   "source": [
    "### b. Code 2 floating-point variables and divide them by each other."
   ]
  },
  {
   "cell_type": "code",
   "execution_count": 11,
   "id": "f70ede1a",
   "metadata": {},
   "outputs": [],
   "source": [
    "g = 4.44"
   ]
  },
  {
   "cell_type": "code",
   "execution_count": 12,
   "id": "166fb9ad",
   "metadata": {},
   "outputs": [],
   "source": [
    "h = 2.22"
   ]
  },
  {
   "cell_type": "code",
   "execution_count": 13,
   "id": "0dde9af0",
   "metadata": {},
   "outputs": [
    {
     "data": {
      "text/plain": [
       "2.0"
      ]
     },
     "execution_count": 13,
     "metadata": {},
     "output_type": "execute_result"
    }
   ],
   "source": [
    "g / h "
   ]
  },
  {
   "cell_type": "code",
   "execution_count": 19,
   "id": "374ac185",
   "metadata": {},
   "outputs": [
    {
     "data": {
      "text/plain": [
       "float"
      ]
     },
     "execution_count": 19,
     "metadata": {},
     "output_type": "execute_result"
    }
   ],
   "source": [
    "type (g)"
   ]
  },
  {
   "cell_type": "code",
   "execution_count": 20,
   "id": "67a37df4",
   "metadata": {},
   "outputs": [
    {
     "data": {
      "text/plain": [
       "float"
      ]
     },
     "execution_count": 20,
     "metadata": {},
     "output_type": "execute_result"
    }
   ],
   "source": [
    "type (h)"
   ]
  },
  {
   "cell_type": "markdown",
   "id": "fd606cf9",
   "metadata": {},
   "source": [
    "# 03.Concatenate strings"
   ]
  },
  {
   "cell_type": "markdown",
   "id": "f033f4e5",
   "metadata": {},
   "source": [
    "### Construct a short word made of separate strings (you’ll need to concatenate some strings!)."
   ]
  },
  {
   "cell_type": "code",
   "execution_count": 16,
   "id": "bda5de36",
   "metadata": {},
   "outputs": [],
   "source": [
    "a = 'fire'"
   ]
  },
  {
   "cell_type": "code",
   "execution_count": 17,
   "id": "c25d2569",
   "metadata": {},
   "outputs": [],
   "source": [
    "b = 'truck'"
   ]
  },
  {
   "cell_type": "code",
   "execution_count": 18,
   "id": "8386423a",
   "metadata": {},
   "outputs": [
    {
     "data": {
      "text/plain": [
       "'firetruck'"
      ]
     },
     "execution_count": 18,
     "metadata": {},
     "output_type": "execute_result"
    }
   ],
   "source": [
    "a + b "
   ]
  },
  {
   "cell_type": "markdown",
   "id": "818fffc2",
   "metadata": {},
   "source": [
    "# 04. Short sentence construction with separate strings"
   ]
  },
  {
   "cell_type": "markdown",
   "id": "7521f046",
   "metadata": {},
   "source": [
    "### Construct a short word made of separate strings (you’ll need to concatenate some strings!)."
   ]
  },
  {
   "cell_type": "code",
   "execution_count": 21,
   "id": "cf91f777",
   "metadata": {},
   "outputs": [],
   "source": [
    "a = 'Nice to meet you!'"
   ]
  },
  {
   "cell_type": "code",
   "execution_count": 22,
   "id": "4476c075",
   "metadata": {},
   "outputs": [],
   "source": [
    "b = 'Hope you are well!'"
   ]
  },
  {
   "cell_type": "code",
   "execution_count": 23,
   "id": "2f279de3",
   "metadata": {},
   "outputs": [
    {
     "data": {
      "text/plain": [
       "'Nice to meet you!Hope you are well!'"
      ]
     },
     "execution_count": 23,
     "metadata": {},
     "output_type": "execute_result"
    }
   ],
   "source": [
    "a + b "
   ]
  },
  {
   "cell_type": "markdown",
   "id": "dcba465b",
   "metadata": {},
   "source": [
    "# 05. Bonus Task"
   ]
  },
  {
   "cell_type": "markdown",
   "id": "78eb92b2",
   "metadata": {},
   "source": [
    "### Bonus Task - At the bottom of your file, include a command that makes a string appear 100 times."
   ]
  },
  {
   "cell_type": "code",
   "execution_count": 24,
   "id": "37e3e864",
   "metadata": {},
   "outputs": [
    {
     "data": {
      "text/plain": [
       "'Nice to meet you!Nice to meet you!Nice to meet you!Nice to meet you!Nice to meet you!Nice to meet you!Nice to meet you!Nice to meet you!Nice to meet you!Nice to meet you!Nice to meet you!Nice to meet you!Nice to meet you!Nice to meet you!Nice to meet you!Nice to meet you!Nice to meet you!Nice to meet you!Nice to meet you!Nice to meet you!Nice to meet you!Nice to meet you!Nice to meet you!Nice to meet you!Nice to meet you!Nice to meet you!Nice to meet you!Nice to meet you!Nice to meet you!Nice to meet you!Nice to meet you!Nice to meet you!Nice to meet you!Nice to meet you!Nice to meet you!Nice to meet you!Nice to meet you!Nice to meet you!Nice to meet you!Nice to meet you!Nice to meet you!Nice to meet you!Nice to meet you!Nice to meet you!Nice to meet you!Nice to meet you!Nice to meet you!Nice to meet you!Nice to meet you!Nice to meet you!Nice to meet you!Nice to meet you!Nice to meet you!Nice to meet you!Nice to meet you!Nice to meet you!Nice to meet you!Nice to meet you!Nice to meet you!Nice to meet you!Nice to meet you!Nice to meet you!Nice to meet you!Nice to meet you!Nice to meet you!Nice to meet you!Nice to meet you!Nice to meet you!Nice to meet you!Nice to meet you!Nice to meet you!Nice to meet you!Nice to meet you!Nice to meet you!Nice to meet you!Nice to meet you!Nice to meet you!Nice to meet you!Nice to meet you!Nice to meet you!Nice to meet you!Nice to meet you!Nice to meet you!Nice to meet you!Nice to meet you!Nice to meet you!Nice to meet you!Nice to meet you!Nice to meet you!Nice to meet you!Nice to meet you!Nice to meet you!Nice to meet you!Nice to meet you!Nice to meet you!Nice to meet you!Nice to meet you!Nice to meet you!Nice to meet you!Nice to meet you!'"
      ]
     },
     "execution_count": 24,
     "metadata": {},
     "output_type": "execute_result"
    }
   ],
   "source": [
    "a * 100"
   ]
  },
  {
   "cell_type": "code",
   "execution_count": null,
   "id": "44d86026",
   "metadata": {},
   "outputs": [],
   "source": []
  }
 ],
 "metadata": {
  "kernelspec": {
   "display_name": "Python 3 (ipykernel)",
   "language": "python",
   "name": "python3"
  },
  "language_info": {
   "codemirror_mode": {
    "name": "ipython",
    "version": 3
   },
   "file_extension": ".py",
   "mimetype": "text/x-python",
   "name": "python",
   "nbconvert_exporter": "python",
   "pygments_lexer": "ipython3",
   "version": "3.9.12"
  }
 },
 "nbformat": 4,
 "nbformat_minor": 5
}
