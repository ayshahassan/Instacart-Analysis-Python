{
 "cells": [
  {
   "cell_type": "markdown",
   "id": "93996c88",
   "metadata": {},
   "source": [
    "# Table of Contents \n",
    "\n",
    "This notebook contains the following: \n",
    "\n",
    "* Importing libraries\n",
    "* Turning project path into a string\n",
    "* Importing data set\n",
    "* Applying the following:\n",
    "    * If-Statements with User-Defined Functions\n",
    "    * If-Statements with the loc() Function\n",
    "    * If-Statements with For-Loops\n",
    "* Deriving new variables (Creating new columns)\n",
    "* Checking for accuracy \n",
    "* Creating a new variable identifying the busiest hours of the day labeled as periods of time labeled “Most orders,” “Average orders,” and “Fewest orders.\n",
    "* Printing frequency of dataframe\n",
    "* Exporting dataframe \n"
   ]
  },
  {
   "cell_type": "markdown",
   "id": "818f123b",
   "metadata": {},
   "source": [
    "# Step 1"
   ]
  },
  {
   "cell_type": "markdown",
   "id": "b817cfa2",
   "metadata": {},
   "source": [
    "## If you haven’t done so already, complete the instructions in the Exercise for creating the “price_label” and “busiest_day” columns."
   ]
  },
  {
   "cell_type": "markdown",
   "id": "2187ac0c",
   "metadata": {},
   "source": [
    "### 01. Importing libraries"
   ]
  },
  {
   "cell_type": "code",
   "execution_count": 1,
   "id": "8b742d1f",
   "metadata": {},
   "outputs": [],
   "source": [
    "# Import libraries\n",
    "\n",
    "import pandas as pd\n",
    "import numpy as np\n",
    "import os"
   ]
  },
  {
   "cell_type": "markdown",
   "id": "0d61aac4",
   "metadata": {},
   "source": [
    "### 02. Turning project path into a string"
   ]
  },
  {
   "cell_type": "code",
   "execution_count": 2,
   "id": "c62a3e6b",
   "metadata": {},
   "outputs": [
    {
     "data": {
      "text/plain": [
       "'/Users/aysha/Documents/Instacart Basket Analysis/'"
      ]
     },
     "execution_count": 2,
     "metadata": {},
     "output_type": "execute_result"
    }
   ],
   "source": [
    "#Turn project folder path into a string\n",
    "\n",
    "'/Users/aysha/Documents/Instacart Basket Analysis/'"
   ]
  },
  {
   "cell_type": "code",
   "execution_count": 3,
   "id": "7299df22",
   "metadata": {},
   "outputs": [],
   "source": [
    "path = r'/Users/aysha/Documents/Instacart Basket Analysis/'"
   ]
  },
  {
   "cell_type": "code",
   "execution_count": 4,
   "id": "0130e058",
   "metadata": {},
   "outputs": [
    {
     "data": {
      "text/plain": [
       "'/Users/aysha/Documents/Instacart Basket Analysis/'"
      ]
     },
     "execution_count": 4,
     "metadata": {},
     "output_type": "execute_result"
    }
   ],
   "source": [
    "path"
   ]
  },
  {
   "cell_type": "markdown",
   "id": "95a0c144",
   "metadata": {},
   "source": [
    "### 03. Import the ords_prod_merged df exported from previous task (Task 4.6)"
   ]
  },
  {
   "cell_type": "code",
   "execution_count": 5,
   "id": "41c0e447",
   "metadata": {},
   "outputs": [],
   "source": [
    "# Import the “orders_products_merged.pkl\" file from Task 4.6\n",
    "\n",
    "df_order_products_merged = pd.read_pickle(os.path.join(path, '02 Data', 'Prepared Data', 'orders_products_merged_revised.pkl'))"
   ]
  },
  {
   "cell_type": "code",
   "execution_count": null,
   "id": "f2ae4d8f",
   "metadata": {},
   "outputs": [],
   "source": [
    "df_order_products_merged.head()"
   ]
  },
  {
   "cell_type": "code",
   "execution_count": 7,
   "id": "63b98b6b",
   "metadata": {},
   "outputs": [],
   "source": [
    "# Create a subset of first million rows\n",
    "\n",
    "df = df_order_products_merged[:1000000]"
   ]
  },
  {
   "cell_type": "code",
   "execution_count": null,
   "id": "cbc59826",
   "metadata": {},
   "outputs": [],
   "source": [
    "df.head()"
   ]
  },
  {
   "cell_type": "code",
   "execution_count": null,
   "id": "b89a1edd",
   "metadata": {},
   "outputs": [],
   "source": [
    "df"
   ]
  },
  {
   "cell_type": "code",
   "execution_count": 10,
   "id": "3136fade",
   "metadata": {},
   "outputs": [
    {
     "data": {
      "text/plain": [
       "(1000000, 15)"
      ]
     },
     "execution_count": 10,
     "metadata": {},
     "output_type": "execute_result"
    }
   ],
   "source": [
    "# Checking the shape of the df subset\n",
    "\n",
    "df.shape"
   ]
  },
  {
   "cell_type": "markdown",
   "id": "ac16293b",
   "metadata": {},
   "source": [
    "## If-Statements with User-Defined Functions"
   ]
  },
  {
   "cell_type": "code",
   "execution_count": 11,
   "id": "abb49823",
   "metadata": {},
   "outputs": [],
   "source": [
    "# Define a function (price_label)\n",
    "\n",
    "def price_label(row):\n",
    "\n",
    "  if row['prices'] <= 5:\n",
    "    return 'Low-range product'\n",
    "  elif (row['prices'] > 5) and (row['prices'] <= 15):\n",
    "    return 'Mid-range product'\n",
    "  elif row['prices'] > 15:\n",
    "    return 'High range'\n",
    "  else: return 'Not enough data'"
   ]
  },
  {
   "cell_type": "code",
   "execution_count": 12,
   "id": "da95baee",
   "metadata": {},
   "outputs": [
    {
     "name": "stderr",
     "output_type": "stream",
     "text": [
      "/var/folders/8d/w14527md2csc2bdhc555bkqw0000gn/T/ipykernel_68610/4067066708.py:3: SettingWithCopyWarning: \n",
      "A value is trying to be set on a copy of a slice from a DataFrame.\n",
      "Try using .loc[row_indexer,col_indexer] = value instead\n",
      "\n",
      "See the caveats in the documentation: https://pandas.pydata.org/pandas-docs/stable/user_guide/indexing.html#returning-a-view-versus-a-copy\n",
      "  df['price_range'] = df.apply(price_label, axis=1)\n"
     ]
    }
   ],
   "source": [
    "# Apply the function on the subset df \n",
    "\n",
    "df['price_range'] = df.apply(price_label, axis=1)"
   ]
  },
  {
   "cell_type": "code",
   "execution_count": null,
   "id": "8d6a5d3c",
   "metadata": {},
   "outputs": [],
   "source": [
    "# Check the values in your df \n",
    "\n",
    "df['price_range'].value_counts(dropna = False)"
   ]
  },
  {
   "cell_type": "code",
   "execution_count": 14,
   "id": "0455c55b",
   "metadata": {},
   "outputs": [
    {
     "data": {
      "text/plain": [
       "14.8"
      ]
     },
     "execution_count": 14,
     "metadata": {},
     "output_type": "execute_result"
    }
   ],
   "source": [
    "# Check most expensive product within subset \n",
    "\n",
    "df['prices'].max()"
   ]
  },
  {
   "cell_type": "markdown",
   "id": "ab477016",
   "metadata": {},
   "source": [
    "## If-Statements with the loc() Function"
   ]
  },
  {
   "cell_type": "code",
   "execution_count": 15,
   "id": "169c858c",
   "metadata": {},
   "outputs": [],
   "source": [
    "# Create conditions for loc Function "
   ]
  },
  {
   "cell_type": "code",
   "execution_count": 18,
   "id": "09c1baff",
   "metadata": {},
   "outputs": [],
   "source": [
    "df.loc[df['prices'] > 15, 'price_range_loc'] = 'High-range product'"
   ]
  },
  {
   "cell_type": "code",
   "execution_count": 17,
   "id": "02b6fe42",
   "metadata": {},
   "outputs": [],
   "source": [
    "df.loc[(df['prices'] <= 15) & (df['prices'] > 5), 'price_range_loc'] = 'Mid-range product'"
   ]
  },
  {
   "cell_type": "code",
   "execution_count": 19,
   "id": "25f33feb",
   "metadata": {},
   "outputs": [],
   "source": [
    "df.loc[df['prices'] <= 5, 'price_range_loc'] = 'Low-range product'"
   ]
  },
  {
   "cell_type": "code",
   "execution_count": null,
   "id": "a6ac50e6",
   "metadata": {},
   "outputs": [],
   "source": [
    "# Check the values in your df \n",
    "\n",
    "df['price_range_loc'].value_counts(dropna = False)"
   ]
  },
  {
   "cell_type": "code",
   "execution_count": 22,
   "id": "a0cbf440",
   "metadata": {},
   "outputs": [],
   "source": [
    "# Check this on the entire dataframe (df_order_products_merged) instead of the subset"
   ]
  },
  {
   "cell_type": "code",
   "execution_count": 23,
   "id": "ed1466fd",
   "metadata": {},
   "outputs": [],
   "source": [
    "df_order_products_merged.loc[df_order_products_merged['prices'] > 15, 'price_range_loc'] = 'High-range product'"
   ]
  },
  {
   "cell_type": "code",
   "execution_count": 29,
   "id": "1daf91fb",
   "metadata": {},
   "outputs": [],
   "source": [
    "df_order_products_merged.loc[(df_order_products_merged['prices'] <= 15) & (df_order_products_merged['prices'] > 5), 'price_range_loc'] = 'Mid-range product'"
   ]
  },
  {
   "cell_type": "code",
   "execution_count": 27,
   "id": "9b5343b8",
   "metadata": {},
   "outputs": [],
   "source": [
    "df_order_products_merged.loc[df_order_products_merged['prices'] <= 5, 'price_range_loc'] = 'Low-range products"
   ]
  },
  {
   "cell_type": "code",
   "execution_count": null,
   "id": "52f83c94",
   "metadata": {},
   "outputs": [],
   "source": [
    "# Check the values in your entire dataframe \n",
    "\n",
    "df_order_products_merged['price_range_loc'].value_counts(dropna = False)"
   ]
  },
  {
   "cell_type": "markdown",
   "id": "12c35b6a",
   "metadata": {},
   "source": [
    "## If-Statements with For-Loops"
   ]
  },
  {
   "cell_type": "code",
   "execution_count": 31,
   "id": "95ec4323",
   "metadata": {
    "collapsed": true
   },
   "outputs": [
    {
     "data": {
      "text/plain": [
       "0    6204182\n",
       "1    5660230\n",
       "6    4496490\n",
       "2    4213830\n",
       "5    4205791\n",
       "3    3840534\n",
       "4    3783802\n",
       "Name: orders_day_of_week, dtype: int64"
      ]
     },
     "execution_count": 31,
     "metadata": {},
     "output_type": "execute_result"
    }
   ],
   "source": [
    "# Print frequency of orders_day_of_week column \n",
    "\n",
    "df_order_products_merged['orders_day_of_week'].value_counts(dropna = False)"
   ]
  },
  {
   "cell_type": "markdown",
   "id": "01e14535",
   "metadata": {},
   "source": [
    "### From the project, each day corresponds to a number, as follows\n",
    "#### 0 = Saturday\n",
    "#### 1 = Sunday \n",
    "#### 2 = Monday\n",
    "#### 3 = Tuesday\n",
    "#### 4 = Wednesday\n",
    "#### 5 = Thursday\n",
    "#### 6 = Friday"
   ]
  },
  {
   "cell_type": "code",
   "execution_count": 33,
   "id": "ffe08540",
   "metadata": {},
   "outputs": [],
   "source": [
    "# Create a new column 'Busiest day' with the following three values\n",
    "# * Busiest day\n",
    "# * Least busy \n",
    "# * Regularly busy \n",
    "\n",
    "\n",
    "result = []\n",
    "\n",
    "for value in df_order_products_merged[\"orders_day_of_week\"]:\n",
    "  if value == 0:\n",
    "    result.append(\"Busiest day\")\n",
    "  elif value == 4:\n",
    "    result.append(\"Least busy\")\n",
    "  else:\n",
    "    result.append(\"Regularly busy\")"
   ]
  },
  {
   "cell_type": "code",
   "execution_count": null,
   "id": "9416ddd0",
   "metadata": {},
   "outputs": [],
   "source": [
    "result"
   ]
  },
  {
   "cell_type": "code",
   "execution_count": 35,
   "id": "96eb4a0a",
   "metadata": {},
   "outputs": [],
   "source": [
    "# Combine result with df (Create a new columnn 'Busiest day' and set it equal to 'result')\n",
    "\n",
    "df_order_products_merged['busiest day'] = result"
   ]
  },
  {
   "cell_type": "code",
   "execution_count": null,
   "id": "b3055ff8",
   "metadata": {},
   "outputs": [],
   "source": [
    "# Print frequency of busiest day column / Check the values in df for busiest day column\n",
    "\n",
    "df_order_products_merged['busiest day'].value_counts(dropna = False)"
   ]
  },
  {
   "cell_type": "code",
   "execution_count": null,
   "id": "65172790",
   "metadata": {},
   "outputs": [],
   "source": [
    "df_order_products_merged.head()"
   ]
  },
  {
   "cell_type": "markdown",
   "id": "cd64bd8d",
   "metadata": {},
   "source": [
    "# Step 2\n",
    "\n",
    "\n",
    "## Suppose your clients have changed their minds about the labels you created in your “busiest_day” column. Now, they want “Busiest day” to become “Busiest days” (plural). This label should correspond with the two busiest days of the week as opposed to the single busiest day. At the same time, they’d also like to know the two slowest days. Create a new column for this using a suitable method."
   ]
  },
  {
   "cell_type": "code",
   "execution_count": 58,
   "id": "da6aaa03",
   "metadata": {},
   "outputs": [],
   "source": [
    "# Create a new column 'Busiest days' with the following three values\n",
    "# * Busiest days - should correspond to the two busiest days of the week \n",
    "# * Slowest days - should correspond to the two slowest days\n",
    "# * Regularly busy days \n",
    "\n",
    "\n",
    "result2 = []\n",
    "\n",
    "for value in df_order_products_merged[\"orders_day_of_week\"]:\n",
    "  if value in [0,1]:result2.append(\"Busiest days\")\n",
    "  elif value in [3,4]:result2.append(\"Slowest days\")\n",
    "  else:result2.append(\"Regularly busy\")"
   ]
  },
  {
   "cell_type": "code",
   "execution_count": null,
   "id": "ced10370",
   "metadata": {},
   "outputs": [],
   "source": [
    "result2"
   ]
  },
  {
   "cell_type": "code",
   "execution_count": 60,
   "id": "28e868cc",
   "metadata": {},
   "outputs": [
    {
     "data": {
      "text/plain": [
       "32404859"
      ]
     },
     "execution_count": 60,
     "metadata": {},
     "output_type": "execute_result"
    }
   ],
   "source": [
    "# Checking if result2 length = DataFrame length\n",
    "\n",
    "len(result2)"
   ]
  },
  {
   "cell_type": "code",
   "execution_count": 61,
   "id": "2af21720",
   "metadata": {},
   "outputs": [],
   "source": [
    "# Combine the new column with df (Create a new columnn 'Busiest days' and set it equal to 'result2')\n",
    "\n",
    "df_order_products_merged['Busiest days'] = result2"
   ]
  },
  {
   "cell_type": "code",
   "execution_count": 62,
   "id": "fe81d35b",
   "metadata": {
    "collapsed": true
   },
   "outputs": [
    {
     "data": {
      "text/plain": [
       "Regularly busy    12916111\n",
       "Busiest days      11864412\n",
       "Slowest days       7624336\n",
       "Name: Busiest days, dtype: int64"
      ]
     },
     "execution_count": 62,
     "metadata": {},
     "output_type": "execute_result"
    }
   ],
   "source": [
    "# Print frequency of Busiest days column \n",
    "\n",
    "df_order_products_merged['Busiest days'].value_counts(dropna = False)"
   ]
  },
  {
   "cell_type": "code",
   "execution_count": null,
   "id": "ba05a49e",
   "metadata": {},
   "outputs": [],
   "source": [
    "df_order_products_merged.head()"
   ]
  },
  {
   "cell_type": "markdown",
   "id": "466d20a9",
   "metadata": {},
   "source": [
    "# Step 3\n",
    "\n",
    "## Check the values of this new column for accuracy. Note any observations in markdown format."
   ]
  },
  {
   "cell_type": "code",
   "execution_count": 64,
   "id": "ff5fad5e",
   "metadata": {},
   "outputs": [
    {
     "data": {
      "text/plain": [
       "11864412"
      ]
     },
     "execution_count": 64,
     "metadata": {},
     "output_type": "execute_result"
    }
   ],
   "source": [
    "# Checking value for busiest days ( 0 = Saturday, 1 = Sunday)\n",
    "\n",
    "6204182 + 5660230"
   ]
  },
  {
   "cell_type": "code",
   "execution_count": 65,
   "id": "4c73495d",
   "metadata": {},
   "outputs": [
    {
     "data": {
      "text/plain": [
       "7624336"
      ]
     },
     "execution_count": 65,
     "metadata": {},
     "output_type": "execute_result"
    }
   ],
   "source": [
    "# Checking value for slowest days ( 3 = Tuesday, 4 = Wednesday)\n",
    "\n",
    "3840534 + 3783802"
   ]
  },
  {
   "cell_type": "markdown",
   "id": "66d0faa2",
   "metadata": {},
   "source": [
    "### The total number of busiest days is the sum of 0 & 1 (11864412) and for slowest days, the total number is the sum of 3 & 4 (7624336)."
   ]
  },
  {
   "cell_type": "markdown",
   "id": "6c26db88",
   "metadata": {},
   "source": [
    "# Step 4 \n",
    "\n",
    "## When too many users make Instacart orders at the same time, the app freezes. The senior technical officer at Instacart wants you to identify the busiest hours of the day. Rather than by hour, they want periods of time labeled “Most orders,” “Average orders,” and “Fewest orders.” Create a new column containing these labels called “busiest_period_of_day.”"
   ]
  },
  {
   "cell_type": "code",
   "execution_count": 67,
   "id": "9272339f",
   "metadata": {
    "collapsed": true
   },
   "outputs": [
    {
     "data": {
      "text/plain": [
       "10    2761760\n",
       "11    2736140\n",
       "14    2689136\n",
       "15    2662144\n",
       "13    2660954\n",
       "12    2618532\n",
       "16    2535202\n",
       "9     2454203\n",
       "17    2087654\n",
       "8     1718118\n",
       "18    1636502\n",
       "19    1258305\n",
       "20     976156\n",
       "7      891054\n",
       "21     795637\n",
       "22     634225\n",
       "23     402316\n",
       "6      290493\n",
       "0      218769\n",
       "1      115700\n",
       "5       87961\n",
       "2       69375\n",
       "4       53242\n",
       "3       51281\n",
       "Name: order_time_of_day, dtype: int64"
      ]
     },
     "execution_count": 67,
     "metadata": {},
     "output_type": "execute_result"
    }
   ],
   "source": [
    "# Check / Print frequency of order_time_of_day column \n",
    "\n",
    "df_order_products_merged['order_time_of_day'].value_counts(dropna = False)"
   ]
  },
  {
   "cell_type": "code",
   "execution_count": 72,
   "id": "fb660963",
   "metadata": {},
   "outputs": [],
   "source": [
    "# Create a new column 'Busiest_period_of_day' with the following three values\n",
    "# * Most orders (9 - 17) \n",
    "# * Average orders (7-8 and 18 - 23)\n",
    "# * Fewest orders  (0- 6)\n",
    "\n",
    "\n",
    "result3 = []\n",
    "\n",
    "for value in df_order_products_merged[\"order_time_of_day\"]:\n",
    "  if value in [9,10,11,12,13,14,15,16,17]:result3.append(\"Most orders\")\n",
    "  elif value in [7,8,18,19,20,21,22,23]:result3.append(\"Average orders\")\n",
    "  else:result3.append(\"Fewest orders\")"
   ]
  },
  {
   "cell_type": "code",
   "execution_count": null,
   "id": "9b26f0f4",
   "metadata": {},
   "outputs": [],
   "source": [
    "result3"
   ]
  },
  {
   "cell_type": "code",
   "execution_count": 74,
   "id": "5186ffd3",
   "metadata": {},
   "outputs": [
    {
     "data": {
      "text/plain": [
       "32404859"
      ]
     },
     "execution_count": 74,
     "metadata": {},
     "output_type": "execute_result"
    }
   ],
   "source": [
    "# Checking if result3 length = DataFrame length\n",
    "\n",
    "len(result3)"
   ]
  },
  {
   "cell_type": "code",
   "execution_count": 75,
   "id": "3b06e8b6",
   "metadata": {},
   "outputs": [],
   "source": [
    "# Combine the new column with df (Create a new columnn 'Busiest_period_of_day' and set it equal to 'result3')\n",
    "\n",
    "df_order_products_merged['Busiest_period_of_day'] = result3"
   ]
  },
  {
   "cell_type": "code",
   "execution_count": null,
   "id": "5642255b",
   "metadata": {},
   "outputs": [],
   "source": [
    "df_order_products_merged.head()"
   ]
  },
  {
   "cell_type": "markdown",
   "id": "c303f081",
   "metadata": {},
   "source": [
    "# Step 5 \n",
    "\n",
    "\n",
    "## Print the frequency for this new column."
   ]
  },
  {
   "cell_type": "code",
   "execution_count": 77,
   "id": "28431104",
   "metadata": {
    "collapsed": true
   },
   "outputs": [
    {
     "data": {
      "text/plain": [
       "Most orders       23205725\n",
       "Average orders     8312313\n",
       "Fewest orders       886821\n",
       "Name: Busiest_period_of_day, dtype: int64"
      ]
     },
     "execution_count": 77,
     "metadata": {},
     "output_type": "execute_result"
    }
   ],
   "source": [
    "# Print frequency of Busiest_period_of_day column \n",
    "\n",
    "df_order_products_merged['Busiest_period_of_day'].value_counts(dropna = False)"
   ]
  },
  {
   "cell_type": "code",
   "execution_count": 78,
   "id": "9698fc78",
   "metadata": {},
   "outputs": [
    {
     "data": {
      "text/plain": [
       "23205725"
      ]
     },
     "execution_count": 78,
     "metadata": {},
     "output_type": "execute_result"
    }
   ],
   "source": [
    "# Checking value for Most orders ( 9 - 17)\n",
    "\n",
    "2761760 + 2736140 + 2689136 + 2662144 + 2660954 + 2618532 + 2535202 + 2454203 + 2087654"
   ]
  },
  {
   "cell_type": "code",
   "execution_count": 79,
   "id": "af883249",
   "metadata": {},
   "outputs": [
    {
     "data": {
      "text/plain": [
       "8312313"
      ]
     },
     "execution_count": 79,
     "metadata": {},
     "output_type": "execute_result"
    }
   ],
   "source": [
    "# Checking value for Average orders ( 7 - 8 & 18 - 23)\n",
    "\n",
    "1718118 + 1636502 + 1258305 + 976156 + 891054 + 795637 + 634225 + 402316"
   ]
  },
  {
   "cell_type": "code",
   "execution_count": 80,
   "id": "4582d6cc",
   "metadata": {},
   "outputs": [
    {
     "data": {
      "text/plain": [
       "886821"
      ]
     },
     "execution_count": 80,
     "metadata": {},
     "output_type": "execute_result"
    }
   ],
   "source": [
    "# Checking value for Fewest orders ( 0 - 6) \n",
    "\n",
    "290493 + 218769 + 115700 + 87961 + 69375 + 53242 + 51281"
   ]
  },
  {
   "cell_type": "markdown",
   "id": "788b92d5",
   "metadata": {},
   "source": [
    "# Step 6 \n",
    "\n",
    "## Ensure your notebook is clean and structured and that your code is well commented.\n",
    "\n",
    "### Done"
   ]
  },
  {
   "cell_type": "markdown",
   "id": "80be7897",
   "metadata": {},
   "source": [
    "# Step 7 \n",
    "\n",
    "## Export your dataframe as a pickle file (since you added new columns) and store it correctly in your “Prepared Data” folder."
   ]
  },
  {
   "cell_type": "code",
   "execution_count": 81,
   "id": "dfa3b924",
   "metadata": {},
   "outputs": [],
   "source": [
    "# Export dataframe (with new columns) to Pickel format (pkl)\n",
    "\n",
    "\n",
    "df_order_products_merged.to_pickle(os.path.join(path, '02 Data','Prepared Data', 'orders_products_merged_4_7.pkl'))"
   ]
  },
  {
   "cell_type": "code",
   "execution_count": null,
   "id": "92213dde",
   "metadata": {},
   "outputs": [],
   "source": []
  }
 ],
 "metadata": {
  "kernelspec": {
   "display_name": "Python 3 (ipykernel)",
   "language": "python",
   "name": "python3"
  },
  "language_info": {
   "codemirror_mode": {
    "name": "ipython",
    "version": 3
   },
   "file_extension": ".py",
   "mimetype": "text/x-python",
   "name": "python",
   "nbconvert_exporter": "python",
   "pygments_lexer": "ipython3",
   "version": "3.9.12"
  }
 },
 "nbformat": 4,
 "nbformat_minor": 5
}
