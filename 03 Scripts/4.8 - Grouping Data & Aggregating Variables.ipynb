{
 "cells": [
  {
   "cell_type": "markdown",
   "id": "f1f7b313",
   "metadata": {},
   "source": [
    "# Table of Contents \n",
    "\n",
    "This notebook contains the following: \n",
    "\n",
    "* Importing libraries\n",
    "* Turning project path into a string\n",
    "* Importing data sets \n",
    "* Finding the aggregated mean of the “order_number” column grouped by “department_id” for the dataframe\n",
    "* Creation of loyalty flags ((Loyal Customer, Regular Customer, and New Customer)\n",
    "* Checking the basic statistics of the product prices for each loyalty category \n",
    "* Creating a spending flag (High Spender, Low Spender)  \n",
    "* Creating a frequency flag (Frequent customer, Regular customer, Non-frequent customer)"
   ]
  },
  {
   "cell_type": "markdown",
   "id": "05f32867",
   "metadata": {},
   "source": [
    "# Step 1 \n",
    "\n",
    "\n",
    "## Create a new notebook for this task. Be sure to import the relevant libraries, along with your ords_prods_merge dataframe, which should include your newly derived columns from the previous Exercise."
   ]
  },
  {
   "cell_type": "markdown",
   "id": "068ef572",
   "metadata": {},
   "source": [
    "## Importing libraries "
   ]
  },
  {
   "cell_type": "code",
   "execution_count": 1,
   "id": "9bfbf61a",
   "metadata": {},
   "outputs": [],
   "source": [
    "# Import libraries\n",
    "\n",
    "import pandas as pd\n",
    "import numpy as np\n",
    "import os"
   ]
  },
  {
   "cell_type": "markdown",
   "id": "40ce6dd6",
   "metadata": {},
   "source": [
    "## Turning project path into a string"
   ]
  },
  {
   "cell_type": "code",
   "execution_count": 2,
   "id": "ae4c442f",
   "metadata": {},
   "outputs": [
    {
     "data": {
      "text/plain": [
       "'/Users/aysha/Documents/Instacart Basket Analysis/'"
      ]
     },
     "execution_count": 2,
     "metadata": {},
     "output_type": "execute_result"
    }
   ],
   "source": [
    "#Turn project folder path into a string\n",
    "\n",
    "'/Users/aysha/Documents/Instacart Basket Analysis/'"
   ]
  },
  {
   "cell_type": "code",
   "execution_count": 3,
   "id": "6ca60c8a",
   "metadata": {},
   "outputs": [],
   "source": [
    "path = r'/Users/aysha/Documents/Instacart Basket Analysis/'"
   ]
  },
  {
   "cell_type": "code",
   "execution_count": 4,
   "id": "1f4fd545",
   "metadata": {},
   "outputs": [
    {
     "data": {
      "text/plain": [
       "'/Users/aysha/Documents/Instacart Basket Analysis/'"
      ]
     },
     "execution_count": 4,
     "metadata": {},
     "output_type": "execute_result"
    }
   ],
   "source": [
    "path"
   ]
  },
  {
   "cell_type": "markdown",
   "id": "bac533d2",
   "metadata": {},
   "source": [
    "## Import your main orders_products_merged dataframe, which should include your newly derived columns from the previous Exercise"
   ]
  },
  {
   "cell_type": "code",
   "execution_count": 5,
   "id": "ce1698d3",
   "metadata": {},
   "outputs": [],
   "source": [
    "# Import the “orders_products_merged\" dataframe from last task / Exercise (4.7)\n",
    "\n",
    "df_ords_prods_merged = pd.read_pickle(os.path.join(path, '02 Data', 'Prepared Data', 'orders_products_merged_4_7.pkl'))"
   ]
  },
  {
   "cell_type": "code",
   "execution_count": null,
   "id": "868f05f4",
   "metadata": {},
   "outputs": [],
   "source": [
    "df_ords_prods_merged.head()"
   ]
  },
  {
   "cell_type": "markdown",
   "id": "75198cc6",
   "metadata": {},
   "source": [
    "# Step 2 \n",
    "\n",
    "\n",
    "## In this Exercise, you learned how to find the aggregated mean of the “order_number” column grouped by “department_id” for a subset of your dataframe. Now, repeat this process for the entire dataframe."
   ]
  },
  {
   "cell_type": "markdown",
   "id": "82148f1a",
   "metadata": {},
   "source": [
    "### First Step - Grouping Data with pandas"
   ]
  },
  {
   "cell_type": "code",
   "execution_count": 7,
   "id": "f862ecc5",
   "metadata": {},
   "outputs": [
    {
     "data": {
      "text/plain": [
       "<pandas.core.groupby.generic.DataFrameGroupBy object at 0x7f9c8157a550>"
      ]
     },
     "execution_count": 7,
     "metadata": {},
     "output_type": "execute_result"
    }
   ],
   "source": [
    "# Using the groupby() function on the dataframe 'df_ords_prods_merged'\n",
    "\n",
    "df_ords_prods_merged.groupby('product_name')"
   ]
  },
  {
   "cell_type": "markdown",
   "id": "a3d7c7bd",
   "metadata": {},
   "source": [
    "### Second Step - Aggregating Data with agg()"
   ]
  },
  {
   "cell_type": "markdown",
   "id": "069c17ac",
   "metadata": {},
   "source": [
    "#### Split the data into groups based on “department_id.”\n",
    "\n",
    "#### Apply the agg() function to each group to obtain the mean values for the “order_number” column.¶"
   ]
  },
  {
   "cell_type": "code",
   "execution_count": 8,
   "id": "d455224a",
   "metadata": {
    "collapsed": true
   },
   "outputs": [
    {
     "data": {
      "text/html": [
       "<div>\n",
       "<style scoped>\n",
       "    .dataframe tbody tr th:only-of-type {\n",
       "        vertical-align: middle;\n",
       "    }\n",
       "\n",
       "    .dataframe tbody tr th {\n",
       "        vertical-align: top;\n",
       "    }\n",
       "\n",
       "    .dataframe thead tr th {\n",
       "        text-align: left;\n",
       "    }\n",
       "\n",
       "    .dataframe thead tr:last-of-type th {\n",
       "        text-align: right;\n",
       "    }\n",
       "</style>\n",
       "<table border=\"1\" class=\"dataframe\">\n",
       "  <thead>\n",
       "    <tr>\n",
       "      <th></th>\n",
       "      <th>order_number</th>\n",
       "    </tr>\n",
       "    <tr>\n",
       "      <th></th>\n",
       "      <th>mean</th>\n",
       "    </tr>\n",
       "    <tr>\n",
       "      <th>department_id</th>\n",
       "      <th></th>\n",
       "    </tr>\n",
       "  </thead>\n",
       "  <tbody>\n",
       "    <tr>\n",
       "      <th>1</th>\n",
       "      <td>15.457838</td>\n",
       "    </tr>\n",
       "    <tr>\n",
       "      <th>2</th>\n",
       "      <td>17.277920</td>\n",
       "    </tr>\n",
       "    <tr>\n",
       "      <th>3</th>\n",
       "      <td>17.170395</td>\n",
       "    </tr>\n",
       "    <tr>\n",
       "      <th>4</th>\n",
       "      <td>17.811403</td>\n",
       "    </tr>\n",
       "    <tr>\n",
       "      <th>5</th>\n",
       "      <td>15.215751</td>\n",
       "    </tr>\n",
       "    <tr>\n",
       "      <th>6</th>\n",
       "      <td>16.439806</td>\n",
       "    </tr>\n",
       "    <tr>\n",
       "      <th>7</th>\n",
       "      <td>17.225802</td>\n",
       "    </tr>\n",
       "    <tr>\n",
       "      <th>8</th>\n",
       "      <td>15.340650</td>\n",
       "    </tr>\n",
       "    <tr>\n",
       "      <th>9</th>\n",
       "      <td>15.895474</td>\n",
       "    </tr>\n",
       "    <tr>\n",
       "      <th>10</th>\n",
       "      <td>20.197148</td>\n",
       "    </tr>\n",
       "    <tr>\n",
       "      <th>11</th>\n",
       "      <td>16.170638</td>\n",
       "    </tr>\n",
       "    <tr>\n",
       "      <th>12</th>\n",
       "      <td>15.887671</td>\n",
       "    </tr>\n",
       "    <tr>\n",
       "      <th>13</th>\n",
       "      <td>16.583536</td>\n",
       "    </tr>\n",
       "    <tr>\n",
       "      <th>14</th>\n",
       "      <td>16.773669</td>\n",
       "    </tr>\n",
       "    <tr>\n",
       "      <th>15</th>\n",
       "      <td>16.165037</td>\n",
       "    </tr>\n",
       "    <tr>\n",
       "      <th>16</th>\n",
       "      <td>17.665606</td>\n",
       "    </tr>\n",
       "    <tr>\n",
       "      <th>17</th>\n",
       "      <td>15.694469</td>\n",
       "    </tr>\n",
       "    <tr>\n",
       "      <th>18</th>\n",
       "      <td>19.310397</td>\n",
       "    </tr>\n",
       "    <tr>\n",
       "      <th>19</th>\n",
       "      <td>17.177343</td>\n",
       "    </tr>\n",
       "    <tr>\n",
       "      <th>20</th>\n",
       "      <td>16.473447</td>\n",
       "    </tr>\n",
       "    <tr>\n",
       "      <th>21</th>\n",
       "      <td>22.902379</td>\n",
       "    </tr>\n",
       "  </tbody>\n",
       "</table>\n",
       "</div>"
      ],
      "text/plain": [
       "              order_number\n",
       "                      mean\n",
       "department_id             \n",
       "1                15.457838\n",
       "2                17.277920\n",
       "3                17.170395\n",
       "4                17.811403\n",
       "5                15.215751\n",
       "6                16.439806\n",
       "7                17.225802\n",
       "8                15.340650\n",
       "9                15.895474\n",
       "10               20.197148\n",
       "11               16.170638\n",
       "12               15.887671\n",
       "13               16.583536\n",
       "14               16.773669\n",
       "15               16.165037\n",
       "16               17.665606\n",
       "17               15.694469\n",
       "18               19.310397\n",
       "19               17.177343\n",
       "20               16.473447\n",
       "21               22.902379"
      ]
     },
     "execution_count": 8,
     "metadata": {},
     "output_type": "execute_result"
    }
   ],
   "source": [
    "# Split the data into groups based on 'department_id' and then apply the agg() function to each group to maintain the mean values for the order_number column \n",
    "\n",
    "df_ords_prods_merged.groupby('department_id').agg({'order_number': ['mean']})"
   ]
  },
  {
   "cell_type": "markdown",
   "id": "2d0ec2d4",
   "metadata": {},
   "source": [
    "#### Repeating via square and dot notations "
   ]
  },
  {
   "cell_type": "code",
   "execution_count": 9,
   "id": "01fd7248",
   "metadata": {
    "collapsed": true
   },
   "outputs": [
    {
     "data": {
      "text/plain": [
       "department_id\n",
       "1     15.457838\n",
       "2     17.277920\n",
       "3     17.170395\n",
       "4     17.811403\n",
       "5     15.215751\n",
       "6     16.439806\n",
       "7     17.225802\n",
       "8     15.340650\n",
       "9     15.895474\n",
       "10    20.197148\n",
       "11    16.170638\n",
       "12    15.887671\n",
       "13    16.583536\n",
       "14    16.773669\n",
       "15    16.165037\n",
       "16    17.665606\n",
       "17    15.694469\n",
       "18    19.310397\n",
       "19    17.177343\n",
       "20    16.473447\n",
       "21    22.902379\n",
       "Name: order_number, dtype: float64"
      ]
     },
     "execution_count": 9,
     "metadata": {},
     "output_type": "execute_result"
    }
   ],
   "source": [
    "# With square notations \n",
    "\n",
    "df_ords_prods_merged.groupby('department_id')['order_number'].mean()"
   ]
  },
  {
   "cell_type": "code",
   "execution_count": 10,
   "id": "7342d5d9",
   "metadata": {
    "collapsed": true
   },
   "outputs": [
    {
     "data": {
      "text/plain": [
       "department_id\n",
       "1     15.457838\n",
       "2     17.277920\n",
       "3     17.170395\n",
       "4     17.811403\n",
       "5     15.215751\n",
       "6     16.439806\n",
       "7     17.225802\n",
       "8     15.340650\n",
       "9     15.895474\n",
       "10    20.197148\n",
       "11    16.170638\n",
       "12    15.887671\n",
       "13    16.583536\n",
       "14    16.773669\n",
       "15    16.165037\n",
       "16    17.665606\n",
       "17    15.694469\n",
       "18    19.310397\n",
       "19    17.177343\n",
       "20    16.473447\n",
       "21    22.902379\n",
       "Name: order_number, dtype: float64"
      ]
     },
     "execution_count": 10,
     "metadata": {},
     "output_type": "execute_result"
    }
   ],
   "source": [
    "# Using dot notations (gives same answer but it is not so visually appealing)\n",
    "\n",
    "df_ords_prods_merged.groupby('department_id').order_number.mean()"
   ]
  },
  {
   "cell_type": "markdown",
   "id": "da1aa594",
   "metadata": {},
   "source": [
    "# Step 3 \n",
    "\n",
    "## Analyze the result. How do the results for the entire dataframe differ from those of the subset? Include your comments in a markdown cell below the executed code."
   ]
  },
  {
   "cell_type": "markdown",
   "id": "09853447",
   "metadata": {},
   "source": [
    "### Answer\n",
    "\n",
    "### In this dataframe, we can see the mean for all the departments available in the dataset whereas in the subset, we could only see the mean for a select few. \n",
    "\n",
    "### Another point of observation is that the mean of the entire dataframe differs from the subset (from the Exercise) across all departments. "
   ]
  },
  {
   "cell_type": "markdown",
   "id": "32b78e40",
   "metadata": {},
   "source": [
    "# Step 4 "
   ]
  },
  {
   "cell_type": "markdown",
   "id": "dbd4c087",
   "metadata": {},
   "source": [
    "## Follow the instructions in the Exercise for creating a loyalty flag for existing customers using the transform() and loc() functions."
   ]
  },
  {
   "cell_type": "markdown",
   "id": "887059cd",
   "metadata": {},
   "source": [
    "### Aggregating Data with transform()"
   ]
  },
  {
   "cell_type": "code",
   "execution_count": 11,
   "id": "87e855fa",
   "metadata": {},
   "outputs": [],
   "source": [
    "# Create a loyalty flag using loc\n",
    "# split data into groups based on user_id and tranform order_number to generate max orders for each user\n",
    "\n",
    "df_ords_prods_merged['max_order'] = df_ords_prods_merged.groupby(['user_id'])['order_number'].transform(np.max)"
   ]
  },
  {
   "cell_type": "code",
   "execution_count": null,
   "id": "f137c0f7",
   "metadata": {},
   "outputs": [],
   "source": [
    "df_ords_prods_merged.head(15)"
   ]
  },
  {
   "cell_type": "code",
   "execution_count": null,
   "id": "814e65f3",
   "metadata": {},
   "outputs": [],
   "source": [
    "# Checky accuracy and print head of dataframe with argument of 100 rows\n",
    "\n",
    "df_ords_prods_merged.head(100)"
   ]
  },
  {
   "cell_type": "markdown",
   "id": "1753bebd",
   "metadata": {},
   "source": [
    "### Deriving Columns with loc()"
   ]
  },
  {
   "cell_type": "markdown",
   "id": "07b8e68c",
   "metadata": {},
   "source": [
    "#### Setting loc functions (with conditions)"
   ]
  },
  {
   "cell_type": "code",
   "execution_count": 14,
   "id": "9743d548",
   "metadata": {},
   "outputs": [],
   "source": [
    "# Setting loc functions (with conditions)\n",
    "\n",
    "df_ords_prods_merged.loc[df_ords_prods_merged['max_order'] > 40, 'loyalty_flag'] = 'Loyal customer'"
   ]
  },
  {
   "cell_type": "code",
   "execution_count": 15,
   "id": "0c2dc8fe",
   "metadata": {},
   "outputs": [],
   "source": [
    "df_ords_prods_merged.loc[(df_ords_prods_merged['max_order'] <= 40) & (df_ords_prods_merged['max_order'] > 10), 'loyalty_flag'] = 'Regular customer'"
   ]
  },
  {
   "cell_type": "code",
   "execution_count": 16,
   "id": "73c5100c",
   "metadata": {},
   "outputs": [],
   "source": [
    "df_ords_prods_merged.loc[df_ords_prods_merged['max_order'] <= 10, 'loyalty_flag'] = 'New customer'"
   ]
  },
  {
   "cell_type": "code",
   "execution_count": 17,
   "id": "fa920582",
   "metadata": {},
   "outputs": [
    {
     "data": {
      "text/plain": [
       "Regular customer    15876776\n",
       "Loyal customer      10284093\n",
       "New customer         6243990\n",
       "Name: loyalty_flag, dtype: int64"
      ]
     },
     "execution_count": 17,
     "metadata": {},
     "output_type": "execute_result"
    }
   ],
   "source": [
    "# Get the amount of loyal customers\n",
    "\n",
    "df_ords_prods_merged['loyalty_flag'].value_counts(dropna = False)"
   ]
  },
  {
   "cell_type": "markdown",
   "id": "3d0e5804",
   "metadata": {},
   "source": [
    "### Assess a single column with this code df['column']"
   ]
  },
  {
   "cell_type": "code",
   "execution_count": null,
   "id": "eb998df8",
   "metadata": {},
   "outputs": [],
   "source": [
    "# Write a head function that returns the first 60 rows of only the “user_id,” “loyalty_flag,” and “order_number” columns\n",
    "\n",
    "df_ords_prods_merged[['user_id', 'loyalty_flag', 'order_number']].head(60)"
   ]
  },
  {
   "cell_type": "markdown",
   "id": "1dd4f446",
   "metadata": {},
   "source": [
    "# Step 5 \n",
    "\n",
    "\n",
    "## The marketing team at Instacart wants to know whether there’s a difference between the spending habits of the three types of customers you identified. Use the loyalty flag you created and check the basic statistics of the product prices for each loyalty category (Loyal Customer, Regular Customer, and New Customer). What you’re trying to determine is whether the prices of products purchased by loyal customers differ from those purchased by regular or new customers."
   ]
  },
  {
   "cell_type": "code",
   "execution_count": 19,
   "id": "63c71601",
   "metadata": {},
   "outputs": [
    {
     "data": {
      "text/html": [
       "<div>\n",
       "<style scoped>\n",
       "    .dataframe tbody tr th:only-of-type {\n",
       "        vertical-align: middle;\n",
       "    }\n",
       "\n",
       "    .dataframe tbody tr th {\n",
       "        vertical-align: top;\n",
       "    }\n",
       "\n",
       "    .dataframe thead tr th {\n",
       "        text-align: left;\n",
       "    }\n",
       "\n",
       "    .dataframe thead tr:last-of-type th {\n",
       "        text-align: right;\n",
       "    }\n",
       "</style>\n",
       "<table border=\"1\" class=\"dataframe\">\n",
       "  <thead>\n",
       "    <tr>\n",
       "      <th></th>\n",
       "      <th colspan=\"3\" halign=\"left\">prices</th>\n",
       "    </tr>\n",
       "    <tr>\n",
       "      <th></th>\n",
       "      <th>mean</th>\n",
       "      <th>min</th>\n",
       "      <th>max</th>\n",
       "    </tr>\n",
       "    <tr>\n",
       "      <th>loyalty_flag</th>\n",
       "      <th></th>\n",
       "      <th></th>\n",
       "      <th></th>\n",
       "    </tr>\n",
       "  </thead>\n",
       "  <tbody>\n",
       "    <tr>\n",
       "      <th>Loyal customer</th>\n",
       "      <td>10.386336</td>\n",
       "      <td>1.0</td>\n",
       "      <td>99999.0</td>\n",
       "    </tr>\n",
       "    <tr>\n",
       "      <th>New customer</th>\n",
       "      <td>13.294670</td>\n",
       "      <td>1.0</td>\n",
       "      <td>99999.0</td>\n",
       "    </tr>\n",
       "    <tr>\n",
       "      <th>Regular customer</th>\n",
       "      <td>12.495717</td>\n",
       "      <td>1.0</td>\n",
       "      <td>99999.0</td>\n",
       "    </tr>\n",
       "  </tbody>\n",
       "</table>\n",
       "</div>"
      ],
      "text/plain": [
       "                     prices              \n",
       "                       mean  min      max\n",
       "loyalty_flag                             \n",
       "Loyal customer    10.386336  1.0  99999.0\n",
       "New customer      13.294670  1.0  99999.0\n",
       "Regular customer  12.495717  1.0  99999.0"
      ]
     },
     "execution_count": 19,
     "metadata": {},
     "output_type": "execute_result"
    }
   ],
   "source": [
    "# Checking basic statistics of the product prices purchased for each loyalty category \n",
    "# (Loyal Customer, Regular Customer, and New Customer) - Performing multiple aggregations with mean, min and max \n",
    "\n",
    "df_ords_prods_merged.groupby('loyalty_flag').agg({'prices': ['mean', 'min', 'max']})"
   ]
  },
  {
   "cell_type": "markdown",
   "id": "94f45f87",
   "metadata": {},
   "source": [
    "#### Loyal customers, on an average, spend on lower priced products in comparison to the other groups of New Customer nad Regular Customer. "
   ]
  },
  {
   "cell_type": "markdown",
   "id": "de9a8c96",
   "metadata": {},
   "source": [
    "# Step 6 \n",
    "\n",
    "## The team now wants to target different types of spenders in their marketing campaigns. This can be achieved by looking at the prices of the items people are buying. Create a spending flag for each user based on the average price across all their orders using the following criteria:\n",
    "\n",
    "## * If the mean of the prices of products purchased by a user is lower than 10, then flag them as a “Low spender.”\n",
    "\n",
    "## * If the mean of the prices of products purchased by a user is higher than or equal to 10, then flag them as a “High spender.”\n"
   ]
  },
  {
   "cell_type": "code",
   "execution_count": 20,
   "id": "9d719614",
   "metadata": {},
   "outputs": [],
   "source": [
    "# Create a spending flag using loc\n",
    "# Split data into groups based on user_id and tranform prices to generate average_price for each user\n",
    "\n",
    "df_ords_prods_merged['average_price'] = df_ords_prods_merged.groupby(['user_id'])['prices'].transform(np.mean)"
   ]
  },
  {
   "cell_type": "code",
   "execution_count": null,
   "id": "6adbc88e",
   "metadata": {},
   "outputs": [],
   "source": [
    "# Check accuracy and print head of dataframe to view new column  \n",
    "\n",
    "df_ords_prods_merged.head(60)"
   ]
  },
  {
   "cell_type": "markdown",
   "id": "4ef9b06b",
   "metadata": {},
   "source": [
    "###  Deriving Columns with loc()\n",
    "\n",
    "### Setting loc functions (with conditions)"
   ]
  },
  {
   "cell_type": "code",
   "execution_count": 22,
   "id": "770914fd",
   "metadata": {},
   "outputs": [],
   "source": [
    "# Derive column conditions\n",
    "\n",
    "df_ords_prods_merged.loc[df_ords_prods_merged['average_price'] < 10, 'spending_flag'] = 'Low Spender'"
   ]
  },
  {
   "cell_type": "code",
   "execution_count": 23,
   "id": "7ba4cff1",
   "metadata": {},
   "outputs": [],
   "source": [
    "df_ords_prods_merged.loc[df_ords_prods_merged['average_price'] >= 10, 'spending_flag'] = 'High Spender'"
   ]
  },
  {
   "cell_type": "code",
   "execution_count": 24,
   "id": "b0dd8978",
   "metadata": {},
   "outputs": [
    {
     "data": {
      "text/plain": [
       "Low Spender     31770614\n",
       "High Spender      634245\n",
       "Name: spending_flag, dtype: int64"
      ]
     },
     "execution_count": 24,
     "metadata": {},
     "output_type": "execute_result"
    }
   ],
   "source": [
    "# Get the amount of High / Low Spenders \n",
    "\n",
    "df_ords_prods_merged['spending_flag'].value_counts(dropna = False)"
   ]
  },
  {
   "cell_type": "markdown",
   "id": "051546a1",
   "metadata": {},
   "source": [
    "# Step 7 \n",
    "\n",
    "\n",
    "## In order to send relevant notifications to users within the app (for instance, asking users if they want to buy the same item again), the Instacart team wants you to determine frequent versus non-frequent customers. Create an order frequency flag that marks the regularity of a user’s ordering behavior according to the median in the “days_since_prior_order” column. The criteria for the flag should be as follows:\n",
    "\n",
    "### * If the median of “days_since_prior_order” is higher than 20, then the customer should be labeled a “Non-frequent customer.”\n",
    "\n",
    "### * If the median is higher than 10 and lower than or equal to 20, then the customer should be labeled a “Regular customer.”\n",
    "\n",
    "### * If the median is lower than or equal to 10, then the customer should be labeled a “Frequent customer.”\n"
   ]
  },
  {
   "cell_type": "code",
   "execution_count": 25,
   "id": "6d4315ee",
   "metadata": {},
   "outputs": [],
   "source": [
    "# Create an order frequency flag that marks the regularity of a user’s ordering behavior according to the median in the “days_since_prior_order” column. \n",
    "# (Non-frequent customer, Regular customer, and Frequent customer)\n",
    "\n",
    "df_ords_prods_merged['Frequency_of_customer'] = df_ords_prods_merged.groupby(['user_id'])['days_since_prior_order'].transform(np.median)"
   ]
  },
  {
   "cell_type": "code",
   "execution_count": null,
   "id": "51bffa72",
   "metadata": {},
   "outputs": [],
   "source": [
    "# Check accuracy and print head of dataframe to view new column  \n",
    "\n",
    "df_ords_prods_merged.head(60)"
   ]
  },
  {
   "cell_type": "markdown",
   "id": "6cda3677",
   "metadata": {},
   "source": [
    "### Deriving Columns with loc()\n",
    "\n",
    "\n",
    "### Setting loc functions (with conditions)\n"
   ]
  },
  {
   "cell_type": "code",
   "execution_count": 27,
   "id": "f0f03d6e",
   "metadata": {},
   "outputs": [],
   "source": [
    "# Derive column conditions\n",
    "\n",
    "df_ords_prods_merged.loc[df_ords_prods_merged['Frequency_of_customer'] > 20, 'order_frequency_flag'] = 'Non-frequent customer'"
   ]
  },
  {
   "cell_type": "code",
   "execution_count": 28,
   "id": "fecffd12",
   "metadata": {},
   "outputs": [],
   "source": [
    "df_ords_prods_merged.loc[(df_ords_prods_merged['Frequency_of_customer'] > 10) & (df_ords_prods_merged['Frequency_of_customer'] <= 20), 'order_frequency_flag'] = 'Regular customer'"
   ]
  },
  {
   "cell_type": "code",
   "execution_count": 32,
   "id": "e29ca161",
   "metadata": {},
   "outputs": [],
   "source": [
    "df_ords_prods_merged.loc[df_ords_prods_merged['Frequency_of_customer'] <= 10, 'order_frequency_flag'] = 'Frequent customer'"
   ]
  },
  {
   "cell_type": "code",
   "execution_count": 30,
   "id": "e283e7a6",
   "metadata": {},
   "outputs": [
    {
     "data": {
      "text/plain": [
       "Frequent customer        21559853\n",
       "Regular customer          7208564\n",
       "Non-frequent customer     3636437\n",
       "NaN                             5\n",
       "Name: order_frequency_flag, dtype: int64"
      ]
     },
     "execution_count": 30,
     "metadata": {},
     "output_type": "execute_result"
    }
   ],
   "source": [
    "# Check frequency of order_frequency_flag \n",
    "\n",
    "df_ords_prods_merged['order_frequency_flag'].value_counts(dropna = False)"
   ]
  },
  {
   "cell_type": "code",
   "execution_count": 31,
   "id": "6318757a",
   "metadata": {
    "collapsed": true
   },
   "outputs": [
    {
     "data": {
      "text/html": [
       "<div>\n",
       "<style scoped>\n",
       "    .dataframe tbody tr th:only-of-type {\n",
       "        vertical-align: middle;\n",
       "    }\n",
       "\n",
       "    .dataframe tbody tr th {\n",
       "        vertical-align: top;\n",
       "    }\n",
       "\n",
       "    .dataframe thead th {\n",
       "        text-align: right;\n",
       "    }\n",
       "</style>\n",
       "<table border=\"1\" class=\"dataframe\">\n",
       "  <thead>\n",
       "    <tr style=\"text-align: right;\">\n",
       "      <th></th>\n",
       "      <th>user_id</th>\n",
       "      <th>loyalty_flag</th>\n",
       "      <th>spending_flag</th>\n",
       "      <th>order_frequency_flag</th>\n",
       "    </tr>\n",
       "  </thead>\n",
       "  <tbody>\n",
       "    <tr>\n",
       "      <th>0</th>\n",
       "      <td>1</td>\n",
       "      <td>New customer</td>\n",
       "      <td>Low Spender</td>\n",
       "      <td>Non-frequent customer</td>\n",
       "    </tr>\n",
       "    <tr>\n",
       "      <th>1</th>\n",
       "      <td>1</td>\n",
       "      <td>New customer</td>\n",
       "      <td>Low Spender</td>\n",
       "      <td>Non-frequent customer</td>\n",
       "    </tr>\n",
       "    <tr>\n",
       "      <th>2</th>\n",
       "      <td>1</td>\n",
       "      <td>New customer</td>\n",
       "      <td>Low Spender</td>\n",
       "      <td>Non-frequent customer</td>\n",
       "    </tr>\n",
       "    <tr>\n",
       "      <th>3</th>\n",
       "      <td>1</td>\n",
       "      <td>New customer</td>\n",
       "      <td>Low Spender</td>\n",
       "      <td>Non-frequent customer</td>\n",
       "    </tr>\n",
       "    <tr>\n",
       "      <th>4</th>\n",
       "      <td>1</td>\n",
       "      <td>New customer</td>\n",
       "      <td>Low Spender</td>\n",
       "      <td>Non-frequent customer</td>\n",
       "    </tr>\n",
       "    <tr>\n",
       "      <th>5</th>\n",
       "      <td>1</td>\n",
       "      <td>New customer</td>\n",
       "      <td>Low Spender</td>\n",
       "      <td>Non-frequent customer</td>\n",
       "    </tr>\n",
       "    <tr>\n",
       "      <th>6</th>\n",
       "      <td>1</td>\n",
       "      <td>New customer</td>\n",
       "      <td>Low Spender</td>\n",
       "      <td>Non-frequent customer</td>\n",
       "    </tr>\n",
       "    <tr>\n",
       "      <th>7</th>\n",
       "      <td>1</td>\n",
       "      <td>New customer</td>\n",
       "      <td>Low Spender</td>\n",
       "      <td>Non-frequent customer</td>\n",
       "    </tr>\n",
       "    <tr>\n",
       "      <th>8</th>\n",
       "      <td>1</td>\n",
       "      <td>New customer</td>\n",
       "      <td>Low Spender</td>\n",
       "      <td>Non-frequent customer</td>\n",
       "    </tr>\n",
       "    <tr>\n",
       "      <th>9</th>\n",
       "      <td>1</td>\n",
       "      <td>New customer</td>\n",
       "      <td>Low Spender</td>\n",
       "      <td>Non-frequent customer</td>\n",
       "    </tr>\n",
       "    <tr>\n",
       "      <th>10</th>\n",
       "      <td>15</td>\n",
       "      <td>Regular customer</td>\n",
       "      <td>Low Spender</td>\n",
       "      <td>Frequent customer</td>\n",
       "    </tr>\n",
       "    <tr>\n",
       "      <th>11</th>\n",
       "      <td>15</td>\n",
       "      <td>Regular customer</td>\n",
       "      <td>Low Spender</td>\n",
       "      <td>Frequent customer</td>\n",
       "    </tr>\n",
       "    <tr>\n",
       "      <th>12</th>\n",
       "      <td>15</td>\n",
       "      <td>Regular customer</td>\n",
       "      <td>Low Spender</td>\n",
       "      <td>Frequent customer</td>\n",
       "    </tr>\n",
       "    <tr>\n",
       "      <th>13</th>\n",
       "      <td>15</td>\n",
       "      <td>Regular customer</td>\n",
       "      <td>Low Spender</td>\n",
       "      <td>Frequent customer</td>\n",
       "    </tr>\n",
       "    <tr>\n",
       "      <th>14</th>\n",
       "      <td>15</td>\n",
       "      <td>Regular customer</td>\n",
       "      <td>Low Spender</td>\n",
       "      <td>Frequent customer</td>\n",
       "    </tr>\n",
       "    <tr>\n",
       "      <th>15</th>\n",
       "      <td>19</td>\n",
       "      <td>New customer</td>\n",
       "      <td>Low Spender</td>\n",
       "      <td>Frequent customer</td>\n",
       "    </tr>\n",
       "    <tr>\n",
       "      <th>16</th>\n",
       "      <td>19</td>\n",
       "      <td>New customer</td>\n",
       "      <td>Low Spender</td>\n",
       "      <td>Frequent customer</td>\n",
       "    </tr>\n",
       "    <tr>\n",
       "      <th>17</th>\n",
       "      <td>19</td>\n",
       "      <td>New customer</td>\n",
       "      <td>Low Spender</td>\n",
       "      <td>Frequent customer</td>\n",
       "    </tr>\n",
       "    <tr>\n",
       "      <th>18</th>\n",
       "      <td>21</td>\n",
       "      <td>Regular customer</td>\n",
       "      <td>Low Spender</td>\n",
       "      <td>Frequent customer</td>\n",
       "    </tr>\n",
       "    <tr>\n",
       "      <th>19</th>\n",
       "      <td>31</td>\n",
       "      <td>Regular customer</td>\n",
       "      <td>Low Spender</td>\n",
       "      <td>Frequent customer</td>\n",
       "    </tr>\n",
       "    <tr>\n",
       "      <th>20</th>\n",
       "      <td>31</td>\n",
       "      <td>Regular customer</td>\n",
       "      <td>Low Spender</td>\n",
       "      <td>Frequent customer</td>\n",
       "    </tr>\n",
       "    <tr>\n",
       "      <th>21</th>\n",
       "      <td>43</td>\n",
       "      <td>Regular customer</td>\n",
       "      <td>Low Spender</td>\n",
       "      <td>Frequent customer</td>\n",
       "    </tr>\n",
       "    <tr>\n",
       "      <th>22</th>\n",
       "      <td>43</td>\n",
       "      <td>Regular customer</td>\n",
       "      <td>Low Spender</td>\n",
       "      <td>Frequent customer</td>\n",
       "    </tr>\n",
       "    <tr>\n",
       "      <th>23</th>\n",
       "      <td>52</td>\n",
       "      <td>Regular customer</td>\n",
       "      <td>Low Spender</td>\n",
       "      <td>Frequent customer</td>\n",
       "    </tr>\n",
       "    <tr>\n",
       "      <th>24</th>\n",
       "      <td>52</td>\n",
       "      <td>Regular customer</td>\n",
       "      <td>Low Spender</td>\n",
       "      <td>Frequent customer</td>\n",
       "    </tr>\n",
       "    <tr>\n",
       "      <th>25</th>\n",
       "      <td>52</td>\n",
       "      <td>Regular customer</td>\n",
       "      <td>Low Spender</td>\n",
       "      <td>Frequent customer</td>\n",
       "    </tr>\n",
       "    <tr>\n",
       "      <th>26</th>\n",
       "      <td>52</td>\n",
       "      <td>Regular customer</td>\n",
       "      <td>Low Spender</td>\n",
       "      <td>Frequent customer</td>\n",
       "    </tr>\n",
       "    <tr>\n",
       "      <th>27</th>\n",
       "      <td>52</td>\n",
       "      <td>Regular customer</td>\n",
       "      <td>Low Spender</td>\n",
       "      <td>Frequent customer</td>\n",
       "    </tr>\n",
       "    <tr>\n",
       "      <th>28</th>\n",
       "      <td>52</td>\n",
       "      <td>Regular customer</td>\n",
       "      <td>Low Spender</td>\n",
       "      <td>Frequent customer</td>\n",
       "    </tr>\n",
       "    <tr>\n",
       "      <th>29</th>\n",
       "      <td>52</td>\n",
       "      <td>Regular customer</td>\n",
       "      <td>Low Spender</td>\n",
       "      <td>Frequent customer</td>\n",
       "    </tr>\n",
       "    <tr>\n",
       "      <th>30</th>\n",
       "      <td>52</td>\n",
       "      <td>Regular customer</td>\n",
       "      <td>Low Spender</td>\n",
       "      <td>Frequent customer</td>\n",
       "    </tr>\n",
       "    <tr>\n",
       "      <th>31</th>\n",
       "      <td>52</td>\n",
       "      <td>Regular customer</td>\n",
       "      <td>Low Spender</td>\n",
       "      <td>Frequent customer</td>\n",
       "    </tr>\n",
       "    <tr>\n",
       "      <th>32</th>\n",
       "      <td>52</td>\n",
       "      <td>Regular customer</td>\n",
       "      <td>Low Spender</td>\n",
       "      <td>Frequent customer</td>\n",
       "    </tr>\n",
       "    <tr>\n",
       "      <th>33</th>\n",
       "      <td>52</td>\n",
       "      <td>Regular customer</td>\n",
       "      <td>Low Spender</td>\n",
       "      <td>Frequent customer</td>\n",
       "    </tr>\n",
       "    <tr>\n",
       "      <th>34</th>\n",
       "      <td>52</td>\n",
       "      <td>Regular customer</td>\n",
       "      <td>Low Spender</td>\n",
       "      <td>Frequent customer</td>\n",
       "    </tr>\n",
       "    <tr>\n",
       "      <th>35</th>\n",
       "      <td>52</td>\n",
       "      <td>Regular customer</td>\n",
       "      <td>Low Spender</td>\n",
       "      <td>Frequent customer</td>\n",
       "    </tr>\n",
       "    <tr>\n",
       "      <th>36</th>\n",
       "      <td>52</td>\n",
       "      <td>Regular customer</td>\n",
       "      <td>Low Spender</td>\n",
       "      <td>Frequent customer</td>\n",
       "    </tr>\n",
       "    <tr>\n",
       "      <th>37</th>\n",
       "      <td>67</td>\n",
       "      <td>Regular customer</td>\n",
       "      <td>Low Spender</td>\n",
       "      <td>Frequent customer</td>\n",
       "    </tr>\n",
       "    <tr>\n",
       "      <th>38</th>\n",
       "      <td>67</td>\n",
       "      <td>Regular customer</td>\n",
       "      <td>Low Spender</td>\n",
       "      <td>Frequent customer</td>\n",
       "    </tr>\n",
       "    <tr>\n",
       "      <th>39</th>\n",
       "      <td>67</td>\n",
       "      <td>Regular customer</td>\n",
       "      <td>Low Spender</td>\n",
       "      <td>Frequent customer</td>\n",
       "    </tr>\n",
       "    <tr>\n",
       "      <th>40</th>\n",
       "      <td>67</td>\n",
       "      <td>Regular customer</td>\n",
       "      <td>Low Spender</td>\n",
       "      <td>Frequent customer</td>\n",
       "    </tr>\n",
       "    <tr>\n",
       "      <th>41</th>\n",
       "      <td>67</td>\n",
       "      <td>Regular customer</td>\n",
       "      <td>Low Spender</td>\n",
       "      <td>Frequent customer</td>\n",
       "    </tr>\n",
       "    <tr>\n",
       "      <th>42</th>\n",
       "      <td>67</td>\n",
       "      <td>Regular customer</td>\n",
       "      <td>Low Spender</td>\n",
       "      <td>Frequent customer</td>\n",
       "    </tr>\n",
       "    <tr>\n",
       "      <th>43</th>\n",
       "      <td>67</td>\n",
       "      <td>Regular customer</td>\n",
       "      <td>Low Spender</td>\n",
       "      <td>Frequent customer</td>\n",
       "    </tr>\n",
       "    <tr>\n",
       "      <th>44</th>\n",
       "      <td>67</td>\n",
       "      <td>Regular customer</td>\n",
       "      <td>Low Spender</td>\n",
       "      <td>Frequent customer</td>\n",
       "    </tr>\n",
       "    <tr>\n",
       "      <th>45</th>\n",
       "      <td>67</td>\n",
       "      <td>Regular customer</td>\n",
       "      <td>Low Spender</td>\n",
       "      <td>Frequent customer</td>\n",
       "    </tr>\n",
       "    <tr>\n",
       "      <th>46</th>\n",
       "      <td>67</td>\n",
       "      <td>Regular customer</td>\n",
       "      <td>Low Spender</td>\n",
       "      <td>Frequent customer</td>\n",
       "    </tr>\n",
       "    <tr>\n",
       "      <th>47</th>\n",
       "      <td>67</td>\n",
       "      <td>Regular customer</td>\n",
       "      <td>Low Spender</td>\n",
       "      <td>Frequent customer</td>\n",
       "    </tr>\n",
       "    <tr>\n",
       "      <th>48</th>\n",
       "      <td>67</td>\n",
       "      <td>Regular customer</td>\n",
       "      <td>Low Spender</td>\n",
       "      <td>Frequent customer</td>\n",
       "    </tr>\n",
       "    <tr>\n",
       "      <th>49</th>\n",
       "      <td>67</td>\n",
       "      <td>Regular customer</td>\n",
       "      <td>Low Spender</td>\n",
       "      <td>Frequent customer</td>\n",
       "    </tr>\n",
       "    <tr>\n",
       "      <th>50</th>\n",
       "      <td>67</td>\n",
       "      <td>Regular customer</td>\n",
       "      <td>Low Spender</td>\n",
       "      <td>Frequent customer</td>\n",
       "    </tr>\n",
       "    <tr>\n",
       "      <th>51</th>\n",
       "      <td>67</td>\n",
       "      <td>Regular customer</td>\n",
       "      <td>Low Spender</td>\n",
       "      <td>Frequent customer</td>\n",
       "    </tr>\n",
       "    <tr>\n",
       "      <th>52</th>\n",
       "      <td>67</td>\n",
       "      <td>Regular customer</td>\n",
       "      <td>Low Spender</td>\n",
       "      <td>Frequent customer</td>\n",
       "    </tr>\n",
       "    <tr>\n",
       "      <th>53</th>\n",
       "      <td>67</td>\n",
       "      <td>Regular customer</td>\n",
       "      <td>Low Spender</td>\n",
       "      <td>Frequent customer</td>\n",
       "    </tr>\n",
       "    <tr>\n",
       "      <th>54</th>\n",
       "      <td>67</td>\n",
       "      <td>Regular customer</td>\n",
       "      <td>Low Spender</td>\n",
       "      <td>Frequent customer</td>\n",
       "    </tr>\n",
       "    <tr>\n",
       "      <th>55</th>\n",
       "      <td>67</td>\n",
       "      <td>Regular customer</td>\n",
       "      <td>Low Spender</td>\n",
       "      <td>Frequent customer</td>\n",
       "    </tr>\n",
       "    <tr>\n",
       "      <th>56</th>\n",
       "      <td>81</td>\n",
       "      <td>New customer</td>\n",
       "      <td>Low Spender</td>\n",
       "      <td>Non-frequent customer</td>\n",
       "    </tr>\n",
       "    <tr>\n",
       "      <th>57</th>\n",
       "      <td>81</td>\n",
       "      <td>New customer</td>\n",
       "      <td>Low Spender</td>\n",
       "      <td>Non-frequent customer</td>\n",
       "    </tr>\n",
       "    <tr>\n",
       "      <th>58</th>\n",
       "      <td>82</td>\n",
       "      <td>Regular customer</td>\n",
       "      <td>Low Spender</td>\n",
       "      <td>Regular customer</td>\n",
       "    </tr>\n",
       "    <tr>\n",
       "      <th>59</th>\n",
       "      <td>82</td>\n",
       "      <td>Regular customer</td>\n",
       "      <td>Low Spender</td>\n",
       "      <td>Regular customer</td>\n",
       "    </tr>\n",
       "  </tbody>\n",
       "</table>\n",
       "</div>"
      ],
      "text/plain": [
       "    user_id      loyalty_flag spending_flag   order_frequency_flag\n",
       "0         1      New customer   Low Spender  Non-frequent customer\n",
       "1         1      New customer   Low Spender  Non-frequent customer\n",
       "2         1      New customer   Low Spender  Non-frequent customer\n",
       "3         1      New customer   Low Spender  Non-frequent customer\n",
       "4         1      New customer   Low Spender  Non-frequent customer\n",
       "5         1      New customer   Low Spender  Non-frequent customer\n",
       "6         1      New customer   Low Spender  Non-frequent customer\n",
       "7         1      New customer   Low Spender  Non-frequent customer\n",
       "8         1      New customer   Low Spender  Non-frequent customer\n",
       "9         1      New customer   Low Spender  Non-frequent customer\n",
       "10       15  Regular customer   Low Spender      Frequent customer\n",
       "11       15  Regular customer   Low Spender      Frequent customer\n",
       "12       15  Regular customer   Low Spender      Frequent customer\n",
       "13       15  Regular customer   Low Spender      Frequent customer\n",
       "14       15  Regular customer   Low Spender      Frequent customer\n",
       "15       19      New customer   Low Spender      Frequent customer\n",
       "16       19      New customer   Low Spender      Frequent customer\n",
       "17       19      New customer   Low Spender      Frequent customer\n",
       "18       21  Regular customer   Low Spender      Frequent customer\n",
       "19       31  Regular customer   Low Spender      Frequent customer\n",
       "20       31  Regular customer   Low Spender      Frequent customer\n",
       "21       43  Regular customer   Low Spender      Frequent customer\n",
       "22       43  Regular customer   Low Spender      Frequent customer\n",
       "23       52  Regular customer   Low Spender      Frequent customer\n",
       "24       52  Regular customer   Low Spender      Frequent customer\n",
       "25       52  Regular customer   Low Spender      Frequent customer\n",
       "26       52  Regular customer   Low Spender      Frequent customer\n",
       "27       52  Regular customer   Low Spender      Frequent customer\n",
       "28       52  Regular customer   Low Spender      Frequent customer\n",
       "29       52  Regular customer   Low Spender      Frequent customer\n",
       "30       52  Regular customer   Low Spender      Frequent customer\n",
       "31       52  Regular customer   Low Spender      Frequent customer\n",
       "32       52  Regular customer   Low Spender      Frequent customer\n",
       "33       52  Regular customer   Low Spender      Frequent customer\n",
       "34       52  Regular customer   Low Spender      Frequent customer\n",
       "35       52  Regular customer   Low Spender      Frequent customer\n",
       "36       52  Regular customer   Low Spender      Frequent customer\n",
       "37       67  Regular customer   Low Spender      Frequent customer\n",
       "38       67  Regular customer   Low Spender      Frequent customer\n",
       "39       67  Regular customer   Low Spender      Frequent customer\n",
       "40       67  Regular customer   Low Spender      Frequent customer\n",
       "41       67  Regular customer   Low Spender      Frequent customer\n",
       "42       67  Regular customer   Low Spender      Frequent customer\n",
       "43       67  Regular customer   Low Spender      Frequent customer\n",
       "44       67  Regular customer   Low Spender      Frequent customer\n",
       "45       67  Regular customer   Low Spender      Frequent customer\n",
       "46       67  Regular customer   Low Spender      Frequent customer\n",
       "47       67  Regular customer   Low Spender      Frequent customer\n",
       "48       67  Regular customer   Low Spender      Frequent customer\n",
       "49       67  Regular customer   Low Spender      Frequent customer\n",
       "50       67  Regular customer   Low Spender      Frequent customer\n",
       "51       67  Regular customer   Low Spender      Frequent customer\n",
       "52       67  Regular customer   Low Spender      Frequent customer\n",
       "53       67  Regular customer   Low Spender      Frequent customer\n",
       "54       67  Regular customer   Low Spender      Frequent customer\n",
       "55       67  Regular customer   Low Spender      Frequent customer\n",
       "56       81      New customer   Low Spender  Non-frequent customer\n",
       "57       81      New customer   Low Spender  Non-frequent customer\n",
       "58       82  Regular customer   Low Spender       Regular customer\n",
       "59       82  Regular customer   Low Spender       Regular customer"
      ]
     },
     "execution_count": 31,
     "metadata": {},
     "output_type": "execute_result"
    }
   ],
   "source": [
    "df_ords_prods_merged[['user_id', 'loyalty_flag', 'spending_flag', 'order_frequency_flag']].head(60)"
   ]
  },
  {
   "cell_type": "markdown",
   "id": "afdc1603",
   "metadata": {},
   "source": [
    "# Step 8\n",
    "\n",
    "\n",
    "## Ensure your notebook is clean and structured and that your code is well commented.\n",
    "\n",
    "### Done "
   ]
  },
  {
   "cell_type": "markdown",
   "id": "df69dd89",
   "metadata": {},
   "source": [
    "# Step 9 \n",
    "\n",
    "## Export your dataframe as a pickle file and store it correctly in your “Prepared Data” folder."
   ]
  },
  {
   "cell_type": "code",
   "execution_count": 33,
   "id": "77ba999d",
   "metadata": {},
   "outputs": [],
   "source": [
    "# Exporting data \n",
    "\n",
    "df_ords_prods_merged.to_pickle(os.path.join(path, '02 Data', 'Prepared Data', 'orders_products_updated_4_8.pkl'))"
   ]
  },
  {
   "cell_type": "code",
   "execution_count": null,
   "id": "1ee2da78",
   "metadata": {},
   "outputs": [],
   "source": []
  }
 ],
 "metadata": {
  "kernelspec": {
   "display_name": "Python 3 (ipykernel)",
   "language": "python",
   "name": "python3"
  },
  "language_info": {
   "codemirror_mode": {
    "name": "ipython",
    "version": 3
   },
   "file_extension": ".py",
   "mimetype": "text/x-python",
   "name": "python",
   "nbconvert_exporter": "python",
   "pygments_lexer": "ipython3",
   "version": "3.9.12"
  }
 },
 "nbformat": 4,
 "nbformat_minor": 5
}
