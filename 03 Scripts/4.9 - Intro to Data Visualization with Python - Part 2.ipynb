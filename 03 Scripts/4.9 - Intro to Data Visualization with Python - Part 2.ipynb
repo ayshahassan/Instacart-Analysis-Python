{
 "cells": [
  {
   "cell_type": "markdown",
   "id": "36e54bb6",
   "metadata": {},
   "source": [
    "# Table of Contents\n",
    "\n",
    "This notebook contains the following: \n",
    "\n",
    "* Importing libraroes\n",
    "* Turning project path into a string \n",
    "* Importing data sets \n",
    "* Creating visualizations\n",
    "* Exporting visualizations "
   ]
  },
  {
   "cell_type": "markdown",
   "id": "2cf9fd12",
   "metadata": {},
   "source": [
    "# This notebook is Part 2 of Task 4.9"
   ]
  },
  {
   "cell_type": "markdown",
   "id": "8f3c43e7",
   "metadata": {},
   "source": [
    "## Step 1\n",
    "\n",
    "## Create a new notebook, import the necessary analysis and visualization libraries, then import your most up-to-date project data (i.e., the data set with your new customer data from the first part of this task)."
   ]
  },
  {
   "cell_type": "markdown",
   "id": "733757da",
   "metadata": {},
   "source": [
    "### 01. Importing libraries "
   ]
  },
  {
   "cell_type": "code",
   "execution_count": 1,
   "id": "0d808822",
   "metadata": {},
   "outputs": [],
   "source": [
    "# Import libraries \n",
    "\n",
    "import pandas as pd\n",
    "import numpy as np\n",
    "import os\n",
    "import matplotlib.pyplot as plt\n",
    "import seaborn as sns\n",
    "import scipy"
   ]
  },
  {
   "cell_type": "markdown",
   "id": "618f79cd",
   "metadata": {},
   "source": [
    "### 02. Turning project path into a string"
   ]
  },
  {
   "cell_type": "code",
   "execution_count": 2,
   "id": "ccac9dbf",
   "metadata": {},
   "outputs": [
    {
     "data": {
      "text/plain": [
       "'/Users/aysha/Documents/Instacart Basket Analysis/'"
      ]
     },
     "execution_count": 2,
     "metadata": {},
     "output_type": "execute_result"
    }
   ],
   "source": [
    "#Turn project folder path into a string\n",
    "\n",
    "'/Users/aysha/Documents/Instacart Basket Analysis/'"
   ]
  },
  {
   "cell_type": "code",
   "execution_count": 3,
   "id": "fd4c79a0",
   "metadata": {},
   "outputs": [],
   "source": [
    "path = r'/Users/aysha/Documents/Instacart Basket Analysis/'"
   ]
  },
  {
   "cell_type": "code",
   "execution_count": 5,
   "id": "b6de3d9a",
   "metadata": {},
   "outputs": [
    {
     "data": {
      "text/plain": [
       "'/Users/aysha/Documents/Instacart Basket Analysis/'"
      ]
     },
     "execution_count": 5,
     "metadata": {},
     "output_type": "execute_result"
    }
   ],
   "source": [
    "path"
   ]
  },
  {
   "cell_type": "markdown",
   "id": "92f40fe2",
   "metadata": {},
   "source": [
    "### 03. Importing data (the data set with new customer data from Part 1 of this task)"
   ]
  },
  {
   "cell_type": "code",
   "execution_count": 6,
   "id": "67958076",
   "metadata": {},
   "outputs": [],
   "source": [
    "# Import the most up-to-date dataset as a dataframe  \n",
    "\n",
    "df_ords_prods_customers = pd.read_pickle(os.path.join(path, '02 Data', 'Prepared Data', 'ords_prods_customers_all_data.pkl'))"
   ]
  },
  {
   "cell_type": "code",
   "execution_count": 7,
   "id": "ce744886",
   "metadata": {},
   "outputs": [
    {
     "data": {
      "text/plain": [
       "(32404859, 34)"
      ]
     },
     "execution_count": 7,
     "metadata": {},
     "output_type": "execute_result"
    }
   ],
   "source": [
    "# Check dataframe\n",
    "\n",
    "df_ords_prods_customers.shape"
   ]
  },
  {
   "cell_type": "code",
   "execution_count": 8,
   "id": "c8f9ecb0",
   "metadata": {},
   "outputs": [
    {
     "data": {
      "text/html": [
       "<div>\n",
       "<style scoped>\n",
       "    .dataframe tbody tr th:only-of-type {\n",
       "        vertical-align: middle;\n",
       "    }\n",
       "\n",
       "    .dataframe tbody tr th {\n",
       "        vertical-align: top;\n",
       "    }\n",
       "\n",
       "    .dataframe thead th {\n",
       "        text-align: right;\n",
       "    }\n",
       "</style>\n",
       "<table border=\"1\" class=\"dataframe\">\n",
       "  <thead>\n",
       "    <tr style=\"text-align: right;\">\n",
       "      <th></th>\n",
       "      <th>order_id</th>\n",
       "      <th>user_id</th>\n",
       "      <th>order_number</th>\n",
       "      <th>orders_day_of_week</th>\n",
       "      <th>order_time_of_day</th>\n",
       "      <th>days_since_prior_order</th>\n",
       "      <th>first_time_customers</th>\n",
       "      <th>product_id</th>\n",
       "      <th>add_to_cart_order</th>\n",
       "      <th>reordered</th>\n",
       "      <th>...</th>\n",
       "      <th>first_name</th>\n",
       "      <th>surname</th>\n",
       "      <th>gender</th>\n",
       "      <th>state</th>\n",
       "      <th>age</th>\n",
       "      <th>date_joined</th>\n",
       "      <th>number_of_dependents</th>\n",
       "      <th>marital_status</th>\n",
       "      <th>income</th>\n",
       "      <th>_merge</th>\n",
       "    </tr>\n",
       "  </thead>\n",
       "  <tbody>\n",
       "    <tr>\n",
       "      <th>0</th>\n",
       "      <td>2539329</td>\n",
       "      <td>1</td>\n",
       "      <td>1</td>\n",
       "      <td>2</td>\n",
       "      <td>8</td>\n",
       "      <td>NaN</td>\n",
       "      <td>True</td>\n",
       "      <td>196</td>\n",
       "      <td>1</td>\n",
       "      <td>0</td>\n",
       "      <td>...</td>\n",
       "      <td>Linda</td>\n",
       "      <td>Nguyen</td>\n",
       "      <td>Female</td>\n",
       "      <td>Alabama</td>\n",
       "      <td>31</td>\n",
       "      <td>2/17/2019</td>\n",
       "      <td>3</td>\n",
       "      <td>married</td>\n",
       "      <td>40423</td>\n",
       "      <td>both</td>\n",
       "    </tr>\n",
       "    <tr>\n",
       "      <th>1</th>\n",
       "      <td>2398795</td>\n",
       "      <td>1</td>\n",
       "      <td>2</td>\n",
       "      <td>3</td>\n",
       "      <td>7</td>\n",
       "      <td>15.0</td>\n",
       "      <td>False</td>\n",
       "      <td>196</td>\n",
       "      <td>1</td>\n",
       "      <td>1</td>\n",
       "      <td>...</td>\n",
       "      <td>Linda</td>\n",
       "      <td>Nguyen</td>\n",
       "      <td>Female</td>\n",
       "      <td>Alabama</td>\n",
       "      <td>31</td>\n",
       "      <td>2/17/2019</td>\n",
       "      <td>3</td>\n",
       "      <td>married</td>\n",
       "      <td>40423</td>\n",
       "      <td>both</td>\n",
       "    </tr>\n",
       "    <tr>\n",
       "      <th>2</th>\n",
       "      <td>473747</td>\n",
       "      <td>1</td>\n",
       "      <td>3</td>\n",
       "      <td>3</td>\n",
       "      <td>12</td>\n",
       "      <td>21.0</td>\n",
       "      <td>False</td>\n",
       "      <td>196</td>\n",
       "      <td>1</td>\n",
       "      <td>1</td>\n",
       "      <td>...</td>\n",
       "      <td>Linda</td>\n",
       "      <td>Nguyen</td>\n",
       "      <td>Female</td>\n",
       "      <td>Alabama</td>\n",
       "      <td>31</td>\n",
       "      <td>2/17/2019</td>\n",
       "      <td>3</td>\n",
       "      <td>married</td>\n",
       "      <td>40423</td>\n",
       "      <td>both</td>\n",
       "    </tr>\n",
       "    <tr>\n",
       "      <th>3</th>\n",
       "      <td>2254736</td>\n",
       "      <td>1</td>\n",
       "      <td>4</td>\n",
       "      <td>4</td>\n",
       "      <td>7</td>\n",
       "      <td>29.0</td>\n",
       "      <td>False</td>\n",
       "      <td>196</td>\n",
       "      <td>1</td>\n",
       "      <td>1</td>\n",
       "      <td>...</td>\n",
       "      <td>Linda</td>\n",
       "      <td>Nguyen</td>\n",
       "      <td>Female</td>\n",
       "      <td>Alabama</td>\n",
       "      <td>31</td>\n",
       "      <td>2/17/2019</td>\n",
       "      <td>3</td>\n",
       "      <td>married</td>\n",
       "      <td>40423</td>\n",
       "      <td>both</td>\n",
       "    </tr>\n",
       "    <tr>\n",
       "      <th>4</th>\n",
       "      <td>431534</td>\n",
       "      <td>1</td>\n",
       "      <td>5</td>\n",
       "      <td>4</td>\n",
       "      <td>15</td>\n",
       "      <td>28.0</td>\n",
       "      <td>False</td>\n",
       "      <td>196</td>\n",
       "      <td>1</td>\n",
       "      <td>1</td>\n",
       "      <td>...</td>\n",
       "      <td>Linda</td>\n",
       "      <td>Nguyen</td>\n",
       "      <td>Female</td>\n",
       "      <td>Alabama</td>\n",
       "      <td>31</td>\n",
       "      <td>2/17/2019</td>\n",
       "      <td>3</td>\n",
       "      <td>married</td>\n",
       "      <td>40423</td>\n",
       "      <td>both</td>\n",
       "    </tr>\n",
       "    <tr>\n",
       "      <th>...</th>\n",
       "      <td>...</td>\n",
       "      <td>...</td>\n",
       "      <td>...</td>\n",
       "      <td>...</td>\n",
       "      <td>...</td>\n",
       "      <td>...</td>\n",
       "      <td>...</td>\n",
       "      <td>...</td>\n",
       "      <td>...</td>\n",
       "      <td>...</td>\n",
       "      <td>...</td>\n",
       "      <td>...</td>\n",
       "      <td>...</td>\n",
       "      <td>...</td>\n",
       "      <td>...</td>\n",
       "      <td>...</td>\n",
       "      <td>...</td>\n",
       "      <td>...</td>\n",
       "      <td>...</td>\n",
       "      <td>...</td>\n",
       "      <td>...</td>\n",
       "    </tr>\n",
       "    <tr>\n",
       "      <th>32404854</th>\n",
       "      <td>156685</td>\n",
       "      <td>106143</td>\n",
       "      <td>26</td>\n",
       "      <td>4</td>\n",
       "      <td>23</td>\n",
       "      <td>5.0</td>\n",
       "      <td>False</td>\n",
       "      <td>19675</td>\n",
       "      <td>1</td>\n",
       "      <td>1</td>\n",
       "      <td>...</td>\n",
       "      <td>Gerald</td>\n",
       "      <td>Yates</td>\n",
       "      <td>Male</td>\n",
       "      <td>Hawaii</td>\n",
       "      <td>25</td>\n",
       "      <td>5/26/2017</td>\n",
       "      <td>0</td>\n",
       "      <td>single</td>\n",
       "      <td>53755</td>\n",
       "      <td>both</td>\n",
       "    </tr>\n",
       "    <tr>\n",
       "      <th>32404855</th>\n",
       "      <td>484769</td>\n",
       "      <td>66343</td>\n",
       "      <td>1</td>\n",
       "      <td>6</td>\n",
       "      <td>11</td>\n",
       "      <td>NaN</td>\n",
       "      <td>True</td>\n",
       "      <td>47210</td>\n",
       "      <td>1</td>\n",
       "      <td>0</td>\n",
       "      <td>...</td>\n",
       "      <td>Jacqueline</td>\n",
       "      <td>Arroyo</td>\n",
       "      <td>Female</td>\n",
       "      <td>Tennessee</td>\n",
       "      <td>22</td>\n",
       "      <td>9/12/2017</td>\n",
       "      <td>3</td>\n",
       "      <td>married</td>\n",
       "      <td>46151</td>\n",
       "      <td>both</td>\n",
       "    </tr>\n",
       "    <tr>\n",
       "      <th>32404856</th>\n",
       "      <td>1561557</td>\n",
       "      <td>66343</td>\n",
       "      <td>2</td>\n",
       "      <td>1</td>\n",
       "      <td>11</td>\n",
       "      <td>30.0</td>\n",
       "      <td>False</td>\n",
       "      <td>47210</td>\n",
       "      <td>1</td>\n",
       "      <td>1</td>\n",
       "      <td>...</td>\n",
       "      <td>Jacqueline</td>\n",
       "      <td>Arroyo</td>\n",
       "      <td>Female</td>\n",
       "      <td>Tennessee</td>\n",
       "      <td>22</td>\n",
       "      <td>9/12/2017</td>\n",
       "      <td>3</td>\n",
       "      <td>married</td>\n",
       "      <td>46151</td>\n",
       "      <td>both</td>\n",
       "    </tr>\n",
       "    <tr>\n",
       "      <th>32404857</th>\n",
       "      <td>276317</td>\n",
       "      <td>66343</td>\n",
       "      <td>3</td>\n",
       "      <td>6</td>\n",
       "      <td>15</td>\n",
       "      <td>19.0</td>\n",
       "      <td>False</td>\n",
       "      <td>47210</td>\n",
       "      <td>1</td>\n",
       "      <td>1</td>\n",
       "      <td>...</td>\n",
       "      <td>Jacqueline</td>\n",
       "      <td>Arroyo</td>\n",
       "      <td>Female</td>\n",
       "      <td>Tennessee</td>\n",
       "      <td>22</td>\n",
       "      <td>9/12/2017</td>\n",
       "      <td>3</td>\n",
       "      <td>married</td>\n",
       "      <td>46151</td>\n",
       "      <td>both</td>\n",
       "    </tr>\n",
       "    <tr>\n",
       "      <th>32404858</th>\n",
       "      <td>2922475</td>\n",
       "      <td>66343</td>\n",
       "      <td>4</td>\n",
       "      <td>1</td>\n",
       "      <td>12</td>\n",
       "      <td>30.0</td>\n",
       "      <td>False</td>\n",
       "      <td>47210</td>\n",
       "      <td>1</td>\n",
       "      <td>1</td>\n",
       "      <td>...</td>\n",
       "      <td>Jacqueline</td>\n",
       "      <td>Arroyo</td>\n",
       "      <td>Female</td>\n",
       "      <td>Tennessee</td>\n",
       "      <td>22</td>\n",
       "      <td>9/12/2017</td>\n",
       "      <td>3</td>\n",
       "      <td>married</td>\n",
       "      <td>46151</td>\n",
       "      <td>both</td>\n",
       "    </tr>\n",
       "  </tbody>\n",
       "</table>\n",
       "<p>32404859 rows × 34 columns</p>\n",
       "</div>"
      ],
      "text/plain": [
       "          order_id user_id  order_number  orders_day_of_week  \\\n",
       "0          2539329       1             1                   2   \n",
       "1          2398795       1             2                   3   \n",
       "2           473747       1             3                   3   \n",
       "3          2254736       1             4                   4   \n",
       "4           431534       1             5                   4   \n",
       "...            ...     ...           ...                 ...   \n",
       "32404854    156685  106143            26                   4   \n",
       "32404855    484769   66343             1                   6   \n",
       "32404856   1561557   66343             2                   1   \n",
       "32404857    276317   66343             3                   6   \n",
       "32404858   2922475   66343             4                   1   \n",
       "\n",
       "          order_time_of_day  days_since_prior_order  first_time_customers  \\\n",
       "0                         8                     NaN                  True   \n",
       "1                         7                    15.0                 False   \n",
       "2                        12                    21.0                 False   \n",
       "3                         7                    29.0                 False   \n",
       "4                        15                    28.0                 False   \n",
       "...                     ...                     ...                   ...   \n",
       "32404854                 23                     5.0                 False   \n",
       "32404855                 11                     NaN                  True   \n",
       "32404856                 11                    30.0                 False   \n",
       "32404857                 15                    19.0                 False   \n",
       "32404858                 12                    30.0                 False   \n",
       "\n",
       "          product_id  add_to_cart_order  reordered  ...  first_name  surname  \\\n",
       "0                196                  1          0  ...       Linda   Nguyen   \n",
       "1                196                  1          1  ...       Linda   Nguyen   \n",
       "2                196                  1          1  ...       Linda   Nguyen   \n",
       "3                196                  1          1  ...       Linda   Nguyen   \n",
       "4                196                  1          1  ...       Linda   Nguyen   \n",
       "...              ...                ...        ...  ...         ...      ...   \n",
       "32404854       19675                  1          1  ...      Gerald    Yates   \n",
       "32404855       47210                  1          0  ...  Jacqueline   Arroyo   \n",
       "32404856       47210                  1          1  ...  Jacqueline   Arroyo   \n",
       "32404857       47210                  1          1  ...  Jacqueline   Arroyo   \n",
       "32404858       47210                  1          1  ...  Jacqueline   Arroyo   \n",
       "\n",
       "          gender      state age date_joined number_of_dependents  \\\n",
       "0         Female    Alabama  31   2/17/2019                    3   \n",
       "1         Female    Alabama  31   2/17/2019                    3   \n",
       "2         Female    Alabama  31   2/17/2019                    3   \n",
       "3         Female    Alabama  31   2/17/2019                    3   \n",
       "4         Female    Alabama  31   2/17/2019                    3   \n",
       "...          ...        ...  ..         ...                  ...   \n",
       "32404854    Male     Hawaii  25   5/26/2017                    0   \n",
       "32404855  Female  Tennessee  22   9/12/2017                    3   \n",
       "32404856  Female  Tennessee  22   9/12/2017                    3   \n",
       "32404857  Female  Tennessee  22   9/12/2017                    3   \n",
       "32404858  Female  Tennessee  22   9/12/2017                    3   \n",
       "\n",
       "         marital_status  income _merge  \n",
       "0               married   40423   both  \n",
       "1               married   40423   both  \n",
       "2               married   40423   both  \n",
       "3               married   40423   both  \n",
       "4               married   40423   both  \n",
       "...                 ...     ...    ...  \n",
       "32404854         single   53755   both  \n",
       "32404855        married   46151   both  \n",
       "32404856        married   46151   both  \n",
       "32404857        married   46151   both  \n",
       "32404858        married   46151   both  \n",
       "\n",
       "[32404859 rows x 34 columns]"
      ]
     },
     "execution_count": 8,
     "metadata": {},
     "output_type": "execute_result"
    }
   ],
   "source": [
    "df_ords_prods_customers"
   ]
  },
  {
   "cell_type": "markdown",
   "id": "e812066f",
   "metadata": {},
   "source": [
    "## Step 2\n",
    "\n",
    "## If you haven’t done so already, follow the instructions in the Exercise to create a bar chart, a histogram, a scatterplot, and a line chart, using a sample subset for the line chart."
   ]
  },
  {
   "cell_type": "markdown",
   "id": "da8e0627",
   "metadata": {},
   "source": [
    "## Visualizations"
   ]
  },
  {
   "cell_type": "markdown",
   "id": "2ad1592d",
   "metadata": {},
   "source": [
    "### 01. Bar Chart"
   ]
  },
  {
   "cell_type": "code",
   "execution_count": 9,
   "id": "c610a664",
   "metadata": {},
   "outputs": [
    {
     "data": {
      "text/plain": [
       "<AxesSubplot:>"
      ]
     },
     "execution_count": 9,
     "metadata": {},
     "output_type": "execute_result"
    },
    {
     "data": {
      "image/png": "[encoded data removed]",
      "text/plain": [
       "<Figure size 432x288 with 1 Axes>"
      ]
     },
     "metadata": {
      "needs_background": "light"
     },
     "output_type": "display_data"
    }
   ],
   "source": [
    "# Creating a bar chart \n",
    "\n",
    "df_ords_prods_customers['orders_day_of_week'].value_counts().plot.bar()"
   ]
  },
  {
   "cell_type": "code",
   "execution_count": 25,
   "id": "6d45dce8",
   "metadata": {},
   "outputs": [
    {
     "data": {
      "image/png": "[encoded data removed]",
      "text/plain": [
       "<Figure size 432x288 with 1 Axes>"
      ]
     },
     "metadata": {
      "needs_background": "light"
     },
     "output_type": "display_data"
    }
   ],
   "source": [
    "# Creating a bar chart (with the sort_index function) \n",
    "\n",
    "bar = df_ords_prods_customers['orders_day_of_week'].value_counts().sort_index().plot.bar()"
   ]
  },
  {
   "cell_type": "code",
   "execution_count": 26,
   "id": "302dd067",
   "metadata": {},
   "outputs": [
    {
     "data": {
      "image/png": "[encoded data removed]",
      "text/plain": [
       "<Figure size 432x288 with 1 Axes>"
      ]
     },
     "execution_count": 26,
     "metadata": {},
     "output_type": "execute_result"
    }
   ],
   "source": [
    "bar.figure"
   ]
  },
  {
   "cell_type": "markdown",
   "id": "232e2cdd",
   "metadata": {},
   "source": [
    "### 02. Histogram"
   ]
  },
  {
   "cell_type": "code",
   "execution_count": 14,
   "id": "37bce45a",
   "metadata": {},
   "outputs": [
    {
     "data": {
      "text/plain": [
       "<AxesSubplot:ylabel='Frequency'>"
      ]
     },
     "execution_count": 14,
     "metadata": {},
     "output_type": "execute_result"
    },
    {
     "data": {
      "image/png": "[encoded data removed]",
      "text/plain": [
       "<Figure size 432x288 with 1 Axes>"
      ]
     },
     "metadata": {
      "needs_background": "light"
     },
     "output_type": "display_data"
    }
   ],
   "source": [
    "# Creating histograms of the 'prices' column \n",
    "\n",
    "df_ords_prods_customers['prices'].plot.hist(bins = 25)"
   ]
  },
  {
   "cell_type": "code",
   "execution_count": 15,
   "id": "cba12200",
   "metadata": {},
   "outputs": [
    {
     "data": {
      "text/plain": [
       "count    3.240486e+07\n",
       "mean     1.198023e+01\n",
       "std      4.956554e+02\n",
       "min      1.000000e+00\n",
       "25%      4.200000e+00\n",
       "50%      7.400000e+00\n",
       "75%      1.130000e+01\n",
       "max      9.999900e+04\n",
       "Name: prices, dtype: float64"
      ]
     },
     "execution_count": 15,
     "metadata": {},
     "output_type": "execute_result"
    }
   ],
   "source": [
    "# Checking for descriptive statistics for prices column \n",
    "\n",
    "df_ords_prods_customers['prices'].describe()"
   ]
  },
  {
   "cell_type": "code",
   "execution_count": 16,
   "id": "3d03bf7d",
   "metadata": {},
   "outputs": [
    {
     "data": {
      "text/plain": [
       "11.98022563865405"
      ]
     },
     "execution_count": 16,
     "metadata": {},
     "output_type": "execute_result"
    }
   ],
   "source": [
    "# Checking for mean of 'prices' column \n",
    "\n",
    "df_ords_prods_customers['prices'].mean()"
   ]
  },
  {
   "cell_type": "code",
   "execution_count": 17,
   "id": "383669da",
   "metadata": {},
   "outputs": [
    {
     "data": {
      "text/plain": [
       "7.4"
      ]
     },
     "execution_count": 17,
     "metadata": {},
     "output_type": "execute_result"
    }
   ],
   "source": [
    "# Checking for median of 'prices' column \n",
    "\n",
    "df_ords_prods_customers['prices'].median()"
   ]
  },
  {
   "cell_type": "code",
   "execution_count": 18,
   "id": "ed9bbaf9",
   "metadata": {},
   "outputs": [
    {
     "data": {
      "text/plain": [
       "99999.0"
      ]
     },
     "execution_count": 18,
     "metadata": {},
     "output_type": "execute_result"
    }
   ],
   "source": [
    "# Checking for maximum value of 'prices' column \n",
    "\n",
    "df_ords_prods_customers['prices'].max()"
   ]
  },
  {
   "cell_type": "code",
   "execution_count": 19,
   "id": "1c36fffb",
   "metadata": {},
   "outputs": [
    {
     "data": {
      "text/plain": [
       "<AxesSubplot:xlabel='prices', ylabel='prices'>"
      ]
     },
     "execution_count": 19,
     "metadata": {},
     "output_type": "execute_result"
    },
    {
     "data": {
      "image/png": "[encoded data removed]",
      "text/plain": [
       "<Figure size 432x288 with 1 Axes>"
      ]
     },
     "metadata": {
      "needs_background": "light"
     },
     "output_type": "display_data"
    }
   ],
   "source": [
    "# Create a scatterplot to check outlier\n",
    "\n",
    "sns.scatterplot(x = 'prices', y = 'prices',data = df_ords_prods_customers)"
   ]
  },
  {
   "cell_type": "markdown",
   "id": "39b68323",
   "metadata": {},
   "source": [
    "#### Ad-hoc cleaning of dataset "
   ]
  },
  {
   "cell_type": "code",
   "execution_count": 20,
   "id": "ae78d4e7",
   "metadata": {},
   "outputs": [
    {
     "data": {
      "text/html": [
       "<div>\n",
       "<style scoped>\n",
       "    .dataframe tbody tr th:only-of-type {\n",
       "        vertical-align: middle;\n",
       "    }\n",
       "\n",
       "    .dataframe tbody tr th {\n",
       "        vertical-align: top;\n",
       "    }\n",
       "\n",
       "    .dataframe thead th {\n",
       "        text-align: right;\n",
       "    }\n",
       "</style>\n",
       "<table border=\"1\" class=\"dataframe\">\n",
       "  <thead>\n",
       "    <tr style=\"text-align: right;\">\n",
       "      <th></th>\n",
       "      <th>order_id</th>\n",
       "      <th>user_id</th>\n",
       "      <th>order_number</th>\n",
       "      <th>orders_day_of_week</th>\n",
       "      <th>order_time_of_day</th>\n",
       "      <th>days_since_prior_order</th>\n",
       "      <th>first_time_customers</th>\n",
       "      <th>product_id</th>\n",
       "      <th>add_to_cart_order</th>\n",
       "      <th>reordered</th>\n",
       "      <th>...</th>\n",
       "      <th>first_name</th>\n",
       "      <th>surname</th>\n",
       "      <th>gender</th>\n",
       "      <th>state</th>\n",
       "      <th>age</th>\n",
       "      <th>date_joined</th>\n",
       "      <th>number_of_dependents</th>\n",
       "      <th>marital_status</th>\n",
       "      <th>income</th>\n",
       "      <th>_merge</th>\n",
       "    </tr>\n",
       "  </thead>\n",
       "  <tbody>\n",
       "    <tr>\n",
       "      <th>7805</th>\n",
       "      <td>1435153</td>\n",
       "      <td>1519</td>\n",
       "      <td>26</td>\n",
       "      <td>2</td>\n",
       "      <td>11</td>\n",
       "      <td>6.0</td>\n",
       "      <td>False</td>\n",
       "      <td>21553</td>\n",
       "      <td>15</td>\n",
       "      <td>0</td>\n",
       "      <td>...</td>\n",
       "      <td>Craig</td>\n",
       "      <td>Clark</td>\n",
       "      <td>Male</td>\n",
       "      <td>Rhode Island</td>\n",
       "      <td>68</td>\n",
       "      <td>3/4/2020</td>\n",
       "      <td>0</td>\n",
       "      <td>divorced/widowed</td>\n",
       "      <td>177864</td>\n",
       "      <td>both</td>\n",
       "    </tr>\n",
       "    <tr>\n",
       "      <th>7806</th>\n",
       "      <td>1066435</td>\n",
       "      <td>1519</td>\n",
       "      <td>32</td>\n",
       "      <td>3</td>\n",
       "      <td>10</td>\n",
       "      <td>5.0</td>\n",
       "      <td>False</td>\n",
       "      <td>21553</td>\n",
       "      <td>28</td>\n",
       "      <td>1</td>\n",
       "      <td>...</td>\n",
       "      <td>Craig</td>\n",
       "      <td>Clark</td>\n",
       "      <td>Male</td>\n",
       "      <td>Rhode Island</td>\n",
       "      <td>68</td>\n",
       "      <td>3/4/2020</td>\n",
       "      <td>0</td>\n",
       "      <td>divorced/widowed</td>\n",
       "      <td>177864</td>\n",
       "      <td>both</td>\n",
       "    </tr>\n",
       "    <tr>\n",
       "      <th>15143</th>\n",
       "      <td>1697208</td>\n",
       "      <td>2409</td>\n",
       "      <td>33</td>\n",
       "      <td>1</td>\n",
       "      <td>19</td>\n",
       "      <td>5.0</td>\n",
       "      <td>False</td>\n",
       "      <td>21553</td>\n",
       "      <td>1</td>\n",
       "      <td>0</td>\n",
       "      <td>...</td>\n",
       "      <td>Nicole</td>\n",
       "      <td>Odonnell</td>\n",
       "      <td>Female</td>\n",
       "      <td>Hawaii</td>\n",
       "      <td>55</td>\n",
       "      <td>11/11/2018</td>\n",
       "      <td>2</td>\n",
       "      <td>married</td>\n",
       "      <td>230074</td>\n",
       "      <td>both</td>\n",
       "    </tr>\n",
       "    <tr>\n",
       "      <th>20264</th>\n",
       "      <td>965345</td>\n",
       "      <td>3531</td>\n",
       "      <td>27</td>\n",
       "      <td>2</td>\n",
       "      <td>19</td>\n",
       "      <td>8.0</td>\n",
       "      <td>False</td>\n",
       "      <td>33664</td>\n",
       "      <td>2</td>\n",
       "      <td>0</td>\n",
       "      <td>...</td>\n",
       "      <td>Alice</td>\n",
       "      <td>Compton</td>\n",
       "      <td>Female</td>\n",
       "      <td>Hawaii</td>\n",
       "      <td>80</td>\n",
       "      <td>10/6/2019</td>\n",
       "      <td>2</td>\n",
       "      <td>married</td>\n",
       "      <td>233776</td>\n",
       "      <td>both</td>\n",
       "    </tr>\n",
       "    <tr>\n",
       "      <th>20497</th>\n",
       "      <td>2943740</td>\n",
       "      <td>3793</td>\n",
       "      <td>1</td>\n",
       "      <td>2</td>\n",
       "      <td>9</td>\n",
       "      <td>NaN</td>\n",
       "      <td>True</td>\n",
       "      <td>21553</td>\n",
       "      <td>3</td>\n",
       "      <td>0</td>\n",
       "      <td>...</td>\n",
       "      <td>Jerry</td>\n",
       "      <td>Allen</td>\n",
       "      <td>Male</td>\n",
       "      <td>Louisiana</td>\n",
       "      <td>59</td>\n",
       "      <td>8/23/2019</td>\n",
       "      <td>3</td>\n",
       "      <td>married</td>\n",
       "      <td>182933</td>\n",
       "      <td>both</td>\n",
       "    </tr>\n",
       "    <tr>\n",
       "      <th>...</th>\n",
       "      <td>...</td>\n",
       "      <td>...</td>\n",
       "      <td>...</td>\n",
       "      <td>...</td>\n",
       "      <td>...</td>\n",
       "      <td>...</td>\n",
       "      <td>...</td>\n",
       "      <td>...</td>\n",
       "      <td>...</td>\n",
       "      <td>...</td>\n",
       "      <td>...</td>\n",
       "      <td>...</td>\n",
       "      <td>...</td>\n",
       "      <td>...</td>\n",
       "      <td>...</td>\n",
       "      <td>...</td>\n",
       "      <td>...</td>\n",
       "      <td>...</td>\n",
       "      <td>...</td>\n",
       "      <td>...</td>\n",
       "      <td>...</td>\n",
       "    </tr>\n",
       "    <tr>\n",
       "      <th>32303799</th>\n",
       "      <td>3265389</td>\n",
       "      <td>51346</td>\n",
       "      <td>4</td>\n",
       "      <td>1</td>\n",
       "      <td>17</td>\n",
       "      <td>13.0</td>\n",
       "      <td>False</td>\n",
       "      <td>33664</td>\n",
       "      <td>2</td>\n",
       "      <td>1</td>\n",
       "      <td>...</td>\n",
       "      <td>nan</td>\n",
       "      <td>Gould</td>\n",
       "      <td>Male</td>\n",
       "      <td>Rhode Island</td>\n",
       "      <td>58</td>\n",
       "      <td>1/25/2019</td>\n",
       "      <td>1</td>\n",
       "      <td>married</td>\n",
       "      <td>207497</td>\n",
       "      <td>both</td>\n",
       "    </tr>\n",
       "    <tr>\n",
       "      <th>32307882</th>\n",
       "      <td>1179092</td>\n",
       "      <td>131671</td>\n",
       "      <td>12</td>\n",
       "      <td>4</td>\n",
       "      <td>9</td>\n",
       "      <td>15.0</td>\n",
       "      <td>False</td>\n",
       "      <td>33664</td>\n",
       "      <td>1</td>\n",
       "      <td>0</td>\n",
       "      <td>...</td>\n",
       "      <td>Diana</td>\n",
       "      <td>Hansen</td>\n",
       "      <td>Female</td>\n",
       "      <td>Rhode Island</td>\n",
       "      <td>35</td>\n",
       "      <td>8/4/2018</td>\n",
       "      <td>0</td>\n",
       "      <td>single</td>\n",
       "      <td>86490</td>\n",
       "      <td>both</td>\n",
       "    </tr>\n",
       "    <tr>\n",
       "      <th>32310810</th>\n",
       "      <td>1226705</td>\n",
       "      <td>39667</td>\n",
       "      <td>7</td>\n",
       "      <td>2</td>\n",
       "      <td>15</td>\n",
       "      <td>20.0</td>\n",
       "      <td>False</td>\n",
       "      <td>33664</td>\n",
       "      <td>14</td>\n",
       "      <td>0</td>\n",
       "      <td>...</td>\n",
       "      <td>Johnny</td>\n",
       "      <td>Colon</td>\n",
       "      <td>Male</td>\n",
       "      <td>Rhode Island</td>\n",
       "      <td>78</td>\n",
       "      <td>5/8/2019</td>\n",
       "      <td>2</td>\n",
       "      <td>married</td>\n",
       "      <td>195077</td>\n",
       "      <td>both</td>\n",
       "    </tr>\n",
       "    <tr>\n",
       "      <th>32330048</th>\n",
       "      <td>3000037</td>\n",
       "      <td>95105</td>\n",
       "      <td>2</td>\n",
       "      <td>4</td>\n",
       "      <td>19</td>\n",
       "      <td>22.0</td>\n",
       "      <td>False</td>\n",
       "      <td>33664</td>\n",
       "      <td>4</td>\n",
       "      <td>0</td>\n",
       "      <td>...</td>\n",
       "      <td>Catherine</td>\n",
       "      <td>Browning</td>\n",
       "      <td>Female</td>\n",
       "      <td>South Carolina</td>\n",
       "      <td>48</td>\n",
       "      <td>1/18/2017</td>\n",
       "      <td>2</td>\n",
       "      <td>married</td>\n",
       "      <td>398880</td>\n",
       "      <td>both</td>\n",
       "    </tr>\n",
       "    <tr>\n",
       "      <th>32330049</th>\n",
       "      <td>2741225</td>\n",
       "      <td>95105</td>\n",
       "      <td>4</td>\n",
       "      <td>5</td>\n",
       "      <td>12</td>\n",
       "      <td>2.0</td>\n",
       "      <td>False</td>\n",
       "      <td>33664</td>\n",
       "      <td>3</td>\n",
       "      <td>1</td>\n",
       "      <td>...</td>\n",
       "      <td>Catherine</td>\n",
       "      <td>Browning</td>\n",
       "      <td>Female</td>\n",
       "      <td>South Carolina</td>\n",
       "      <td>48</td>\n",
       "      <td>1/18/2017</td>\n",
       "      <td>2</td>\n",
       "      <td>married</td>\n",
       "      <td>398880</td>\n",
       "      <td>both</td>\n",
       "    </tr>\n",
       "  </tbody>\n",
       "</table>\n",
       "<p>5127 rows × 34 columns</p>\n",
       "</div>"
      ],
      "text/plain": [
       "          order_id user_id  order_number  orders_day_of_week  \\\n",
       "7805       1435153    1519            26                   2   \n",
       "7806       1066435    1519            32                   3   \n",
       "15143      1697208    2409            33                   1   \n",
       "20264       965345    3531            27                   2   \n",
       "20497      2943740    3793             1                   2   \n",
       "...            ...     ...           ...                 ...   \n",
       "32303799   3265389   51346             4                   1   \n",
       "32307882   1179092  131671            12                   4   \n",
       "32310810   1226705   39667             7                   2   \n",
       "32330048   3000037   95105             2                   4   \n",
       "32330049   2741225   95105             4                   5   \n",
       "\n",
       "          order_time_of_day  days_since_prior_order  first_time_customers  \\\n",
       "7805                     11                     6.0                 False   \n",
       "7806                     10                     5.0                 False   \n",
       "15143                    19                     5.0                 False   \n",
       "20264                    19                     8.0                 False   \n",
       "20497                     9                     NaN                  True   \n",
       "...                     ...                     ...                   ...   \n",
       "32303799                 17                    13.0                 False   \n",
       "32307882                  9                    15.0                 False   \n",
       "32310810                 15                    20.0                 False   \n",
       "32330048                 19                    22.0                 False   \n",
       "32330049                 12                     2.0                 False   \n",
       "\n",
       "          product_id  add_to_cart_order  reordered  ... first_name   surname  \\\n",
       "7805           21553                 15          0  ...      Craig     Clark   \n",
       "7806           21553                 28          1  ...      Craig     Clark   \n",
       "15143          21553                  1          0  ...     Nicole  Odonnell   \n",
       "20264          33664                  2          0  ...      Alice   Compton   \n",
       "20497          21553                  3          0  ...      Jerry     Allen   \n",
       "...              ...                ...        ...  ...        ...       ...   \n",
       "32303799       33664                  2          1  ...        nan     Gould   \n",
       "32307882       33664                  1          0  ...      Diana    Hansen   \n",
       "32310810       33664                 14          0  ...     Johnny     Colon   \n",
       "32330048       33664                  4          0  ...  Catherine  Browning   \n",
       "32330049       33664                  3          1  ...  Catherine  Browning   \n",
       "\n",
       "          gender           state age date_joined number_of_dependents  \\\n",
       "7805        Male    Rhode Island  68    3/4/2020                    0   \n",
       "7806        Male    Rhode Island  68    3/4/2020                    0   \n",
       "15143     Female          Hawaii  55  11/11/2018                    2   \n",
       "20264     Female          Hawaii  80   10/6/2019                    2   \n",
       "20497       Male       Louisiana  59   8/23/2019                    3   \n",
       "...          ...             ...  ..         ...                  ...   \n",
       "32303799    Male    Rhode Island  58   1/25/2019                    1   \n",
       "32307882  Female    Rhode Island  35    8/4/2018                    0   \n",
       "32310810    Male    Rhode Island  78    5/8/2019                    2   \n",
       "32330048  Female  South Carolina  48   1/18/2017                    2   \n",
       "32330049  Female  South Carolina  48   1/18/2017                    2   \n",
       "\n",
       "            marital_status  income _merge  \n",
       "7805      divorced/widowed  177864   both  \n",
       "7806      divorced/widowed  177864   both  \n",
       "15143              married  230074   both  \n",
       "20264              married  233776   both  \n",
       "20497              married  182933   both  \n",
       "...                    ...     ...    ...  \n",
       "32303799           married  207497   both  \n",
       "32307882            single   86490   both  \n",
       "32310810           married  195077   both  \n",
       "32330048           married  398880   both  \n",
       "32330049           married  398880   both  \n",
       "\n",
       "[5127 rows x 34 columns]"
      ]
     },
     "execution_count": 20,
     "metadata": {},
     "output_type": "execute_result"
    }
   ],
   "source": [
    "# Checking whether there are any values above a certain threshold in the data, for instance, anything above the “normal” price of a supermarket item. \n",
    "\n",
    "df_ords_prods_customers.loc[df_ords_prods_customers['prices'] > 100]"
   ]
  },
  {
   "cell_type": "code",
   "execution_count": 21,
   "id": "7a8c9bfd",
   "metadata": {},
   "outputs": [],
   "source": [
    "# Mark these outlier values as 'missing'\n",
    "\n",
    "df_ords_prods_customers.loc[df_ords_prods_customers['prices'] >100, 'prices'] = np.nan"
   ]
  },
  {
   "cell_type": "code",
   "execution_count": 22,
   "id": "5f7dc3f5",
   "metadata": {},
   "outputs": [
    {
     "data": {
      "text/plain": [
       "25.0"
      ]
     },
     "execution_count": 22,
     "metadata": {},
     "output_type": "execute_result"
    }
   ],
   "source": [
    "# Check whether this was successful by running a max-value check on 'prices' column\n",
    "\n",
    "df_ords_prods_customers['prices'].max()"
   ]
  },
  {
   "cell_type": "markdown",
   "id": "ff93b138",
   "metadata": {},
   "source": [
    "### Final version of histogram after ad-hoc cleaning "
   ]
  },
  {
   "cell_type": "code",
   "execution_count": 23,
   "id": "86b77975",
   "metadata": {},
   "outputs": [
    {
     "data": {
      "text/plain": [
       "<AxesSubplot:ylabel='Frequency'>"
      ]
     },
     "execution_count": 23,
     "metadata": {},
     "output_type": "execute_result"
    },
    {
     "data": {
      "image/png": "[encoded data removed]",
      "text/plain": [
       "<Figure size 432x288 with 1 Axes>"
      ]
     },
     "metadata": {
      "needs_background": "light"
     },
     "output_type": "display_data"
    }
   ],
   "source": [
    "# Revisit histogram of 'prices' column\n",
    "\n",
    "df_ords_prods_customers['prices'].plot.hist(bins = 25)"
   ]
  },
  {
   "cell_type": "code",
   "execution_count": 27,
   "id": "019baaf4",
   "metadata": {},
   "outputs": [
    {
     "data": {
      "image/png": "[encoded data removed]",
      "text/plain": [
       "<Figure size 432x288 with 1 Axes>"
      ]
     },
     "metadata": {
      "needs_background": "light"
     },
     "output_type": "display_data"
    }
   ],
   "source": [
    "hist = df_ords_prods_customers['prices'].plot.hist(bins = 25)"
   ]
  },
  {
   "cell_type": "code",
   "execution_count": 28,
   "id": "7d69a562",
   "metadata": {},
   "outputs": [
    {
     "data": {
      "image/png": "[encoded data removed]",
      "text/plain": [
       "<Figure size 432x288 with 1 Axes>"
      ]
     },
     "execution_count": 28,
     "metadata": {},
     "output_type": "execute_result"
    }
   ],
   "source": [
    "hist.figure"
   ]
  },
  {
   "cell_type": "markdown",
   "id": "b093829e",
   "metadata": {},
   "source": [
    "### 03. Scatterplot "
   ]
  },
  {
   "cell_type": "code",
   "execution_count": 30,
   "id": "462a38f8",
   "metadata": {},
   "outputs": [
    {
     "data": {
      "image/png": "[encoded data removed]",
      "text/plain": [
       "<Figure size 432x288 with 1 Axes>"
      ]
     },
     "metadata": {
      "needs_background": "light"
     },
     "output_type": "display_data"
    }
   ],
   "source": [
    "# Create a scatterplot \n",
    "\n",
    "scatterplot = sns.scatterplot(x = 'prices', y = 'prices',data = df_ords_prods_customers)"
   ]
  },
  {
   "cell_type": "code",
   "execution_count": 31,
   "id": "f1056514",
   "metadata": {},
   "outputs": [
    {
     "data": {
      "image/png": "[encoded data removed]",
      "text/plain": [
       "<Figure size 432x288 with 1 Axes>"
      ]
     },
     "execution_count": 31,
     "metadata": {},
     "output_type": "execute_result"
    }
   ],
   "source": [
    "scatterplot.figure"
   ]
  },
  {
   "cell_type": "markdown",
   "id": "67d94e29",
   "metadata": {},
   "source": [
    "### 04. Line Chart "
   ]
  },
  {
   "cell_type": "code",
   "execution_count": 32,
   "id": "5fae0583",
   "metadata": {},
   "outputs": [],
   "source": [
    "# Line chart using subset"
   ]
  },
  {
   "cell_type": "code",
   "execution_count": 33,
   "id": "c339eb3d",
   "metadata": {},
   "outputs": [],
   "source": [
    "# Create a list holding true/false values to test np.random.rand() <=0.7\n",
    "np.random.seed(4)\n",
    "dev = np.random.rand(len(df_ords_prods_customers)) <= 0.7"
   ]
  },
  {
   "cell_type": "code",
   "execution_count": 34,
   "id": "6be2afae",
   "metadata": {},
   "outputs": [
    {
     "data": {
      "text/plain": [
       "array([False,  True, False, ...,  True,  True,  True])"
      ]
     },
     "execution_count": 34,
     "metadata": {},
     "output_type": "execute_result"
    }
   ],
   "source": [
    "# dev is the boolean list of true/false\n",
    "\n",
    "dev"
   ]
  },
  {
   "cell_type": "code",
   "execution_count": 35,
   "id": "2cf51545",
   "metadata": {},
   "outputs": [],
   "source": [
    "# Store 70% of the sample in the dataframe big\n",
    "\n",
    "big = df_ords_prods_customers[dev]"
   ]
  },
  {
   "cell_type": "code",
   "execution_count": 36,
   "id": "94b50191",
   "metadata": {},
   "outputs": [],
   "source": [
    "# Store 30% of the sample in the dataframe small\n",
    "\n",
    "small = df_ords_prods_customers[~dev]"
   ]
  },
  {
   "cell_type": "code",
   "execution_count": 37,
   "id": "4117852f",
   "metadata": {},
   "outputs": [
    {
     "data": {
      "text/plain": [
       "32404859"
      ]
     },
     "execution_count": 37,
     "metadata": {},
     "output_type": "execute_result"
    }
   ],
   "source": [
    "# Check length of df \n",
    "\n",
    "len(df_ords_prods_customers)"
   ]
  },
  {
   "cell_type": "code",
   "execution_count": 38,
   "id": "e33e674c",
   "metadata": {},
   "outputs": [
    {
     "data": {
      "text/plain": [
       "32404859"
      ]
     },
     "execution_count": 38,
     "metadata": {},
     "output_type": "execute_result"
    }
   ],
   "source": [
    "# Check length of big and small dfs\n",
    "\n",
    "len(big) + len(small)"
   ]
  },
  {
   "cell_type": "code",
   "execution_count": 39,
   "id": "81e62e67",
   "metadata": {},
   "outputs": [],
   "source": [
    "# Creating new data frame with just the columns needed for the line chart\n",
    "\n",
    "df_2 = small[['orders_day_of_week','prices']]"
   ]
  },
  {
   "cell_type": "code",
   "execution_count": 40,
   "id": "0bc5e829",
   "metadata": {},
   "outputs": [
    {
     "data": {
      "text/html": [
       "<div>\n",
       "<style scoped>\n",
       "    .dataframe tbody tr th:only-of-type {\n",
       "        vertical-align: middle;\n",
       "    }\n",
       "\n",
       "    .dataframe tbody tr th {\n",
       "        vertical-align: top;\n",
       "    }\n",
       "\n",
       "    .dataframe thead th {\n",
       "        text-align: right;\n",
       "    }\n",
       "</style>\n",
       "<table border=\"1\" class=\"dataframe\">\n",
       "  <thead>\n",
       "    <tr style=\"text-align: right;\">\n",
       "      <th></th>\n",
       "      <th>orders_day_of_week</th>\n",
       "      <th>prices</th>\n",
       "    </tr>\n",
       "  </thead>\n",
       "  <tbody>\n",
       "    <tr>\n",
       "      <th>0</th>\n",
       "      <td>2</td>\n",
       "      <td>9.0</td>\n",
       "    </tr>\n",
       "    <tr>\n",
       "      <th>2</th>\n",
       "      <td>3</td>\n",
       "      <td>9.0</td>\n",
       "    </tr>\n",
       "    <tr>\n",
       "      <th>3</th>\n",
       "      <td>4</td>\n",
       "      <td>9.0</td>\n",
       "    </tr>\n",
       "    <tr>\n",
       "      <th>6</th>\n",
       "      <td>1</td>\n",
       "      <td>9.0</td>\n",
       "    </tr>\n",
       "    <tr>\n",
       "      <th>10</th>\n",
       "      <td>2</td>\n",
       "      <td>12.5</td>\n",
       "    </tr>\n",
       "    <tr>\n",
       "      <th>...</th>\n",
       "      <td>...</td>\n",
       "      <td>...</td>\n",
       "    </tr>\n",
       "    <tr>\n",
       "      <th>32404841</th>\n",
       "      <td>2</td>\n",
       "      <td>10.7</td>\n",
       "    </tr>\n",
       "    <tr>\n",
       "      <th>32404842</th>\n",
       "      <td>6</td>\n",
       "      <td>10.7</td>\n",
       "    </tr>\n",
       "    <tr>\n",
       "      <th>32404843</th>\n",
       "      <td>0</td>\n",
       "      <td>10.7</td>\n",
       "    </tr>\n",
       "    <tr>\n",
       "      <th>32404849</th>\n",
       "      <td>1</td>\n",
       "      <td>10.7</td>\n",
       "    </tr>\n",
       "    <tr>\n",
       "      <th>32404850</th>\n",
       "      <td>4</td>\n",
       "      <td>10.7</td>\n",
       "    </tr>\n",
       "  </tbody>\n",
       "</table>\n",
       "<p>9721098 rows × 2 columns</p>\n",
       "</div>"
      ],
      "text/plain": [
       "          orders_day_of_week  prices\n",
       "0                          2     9.0\n",
       "2                          3     9.0\n",
       "3                          4     9.0\n",
       "6                          1     9.0\n",
       "10                         2    12.5\n",
       "...                      ...     ...\n",
       "32404841                   2    10.7\n",
       "32404842                   6    10.7\n",
       "32404843                   0    10.7\n",
       "32404849                   1    10.7\n",
       "32404850                   4    10.7\n",
       "\n",
       "[9721098 rows x 2 columns]"
      ]
     },
     "execution_count": 40,
     "metadata": {},
     "output_type": "execute_result"
    }
   ],
   "source": [
    "df_2"
   ]
  },
  {
   "cell_type": "code",
   "execution_count": 41,
   "id": "b608efe8",
   "metadata": {},
   "outputs": [
    {
     "data": {
      "image/png": "[encoded data removed]",
      "text/plain": [
       "<Figure size 432x288 with 1 Axes>"
      ]
     },
     "metadata": {
      "needs_background": "light"
     },
     "output_type": "display_data"
    }
   ],
   "source": [
    "# Create a Line Chart after data sampling (on small df - 30% of df)\n",
    "\n",
    "line = sns.lineplot(data = df_2, x = 'orders_day_of_week',y = 'prices')"
   ]
  },
  {
   "cell_type": "markdown",
   "id": "c01ca2f7",
   "metadata": {},
   "source": [
    "## Step 3 \n",
    "\n",
    "## You need to provide the Instacart senior stakeholders with descriptive findings about sales. Create a histogram of the “order_hour_of_day” column.\n",
    "\n",
    "## In a markdown cell beneath your histogram, describe what the histogram demonstrates.\n"
   ]
  },
  {
   "cell_type": "code",
   "execution_count": 42,
   "id": "3ad09e18",
   "metadata": {},
   "outputs": [
    {
     "data": {
      "text/plain": [
       "<AxesSubplot:ylabel='Frequency'>"
      ]
     },
     "execution_count": 42,
     "metadata": {},
     "output_type": "execute_result"
    },
    {
     "data": {
      "image/png": "[encoded data removed]",
      "text/plain": [
       "<Figure size 432x288 with 1 Axes>"
      ]
     },
     "metadata": {
      "needs_background": "light"
     },
     "output_type": "display_data"
    }
   ],
   "source": [
    "# Creating histogram of the 'order_time_of_day' column \n",
    "\n",
    "df_ords_prods_customers['order_time_of_day'].plot.hist(bins = 25)"
   ]
  },
  {
   "cell_type": "code",
   "execution_count": 43,
   "id": "af471280",
   "metadata": {},
   "outputs": [
    {
     "data": {
      "image/png": "[encoded data removed]",
      "text/plain": [
       "<Figure size 432x288 with 1 Axes>"
      ]
     },
     "metadata": {
      "needs_background": "light"
     },
     "output_type": "display_data"
    }
   ],
   "source": [
    "# Creating histogram of the 'order_time_of_day' column (by increasing granularity)\n",
    "\n",
    "hist_2 = df_ords_prods_customers['order_time_of_day'].plot.hist(bins = 50)"
   ]
  },
  {
   "cell_type": "code",
   "execution_count": 44,
   "id": "44453638",
   "metadata": {},
   "outputs": [
    {
     "data": {
      "image/png": "[encoded data removed]",
      "text/plain": [
       "<Figure size 432x288 with 1 Axes>"
      ]
     },
     "execution_count": 44,
     "metadata": {},
     "output_type": "execute_result"
    }
   ],
   "source": [
    "hist_2.figure"
   ]
  },
  {
   "cell_type": "markdown",
   "id": "21ade937",
   "metadata": {},
   "source": [
    "### Observation: \n",
    "\n",
    "### Most of the orders are placed between 10 and 11 am, with busy times followed till 5 pm after which it decreases through the night. "
   ]
  },
  {
   "cell_type": "markdown",
   "id": "a5fa81a1",
   "metadata": {},
   "source": [
    "## Step 4 \n",
    "\n",
    "## The marketing team is curious about the distribution of orders among customers in terms of loyalty. Create a bar chart from the “loyalty_flag” column."
   ]
  },
  {
   "cell_type": "code",
   "execution_count": 45,
   "id": "d8fa25f0",
   "metadata": {},
   "outputs": [
    {
     "data": {
      "text/plain": [
       "Index(['order_id', 'user_id', 'order_number', 'orders_day_of_week',\n",
       "       'order_time_of_day', 'days_since_prior_order', 'first_time_customers',\n",
       "       'product_id', 'add_to_cart_order', 'reordered', 'product_name',\n",
       "       'aisle_id', 'department_id', 'prices', 'price_range_loc', 'busiest day',\n",
       "       'Busiest days', 'Busiest_period_of_day', 'max_order', 'loyalty_flag',\n",
       "       'average_price', 'spending_flag', 'Frequency_of_customer',\n",
       "       'order_frequency_flag', 'first_name', 'surname', 'gender', 'state',\n",
       "       'age', 'date_joined', 'number_of_dependents', 'marital_status',\n",
       "       'income', '_merge'],\n",
       "      dtype='object')"
      ]
     },
     "execution_count": 45,
     "metadata": {},
     "output_type": "execute_result"
    }
   ],
   "source": [
    "df_ords_prods_customers.columns"
   ]
  },
  {
   "cell_type": "code",
   "execution_count": 48,
   "id": "5cd63345",
   "metadata": {},
   "outputs": [
    {
     "data": {
      "image/png": "[encoded data removed]",
      "text/plain": [
       "<Figure size 432x288 with 1 Axes>"
      ]
     },
     "metadata": {
      "needs_background": "light"
     },
     "output_type": "display_data"
    }
   ],
   "source": [
    "# Create a bar chart from the 'loyalty_flag column' \n",
    "\n",
    "bar_2 = df_ords_prods_customers['loyalty_flag'].value_counts().plot.bar()"
   ]
  },
  {
   "cell_type": "code",
   "execution_count": 49,
   "id": "f1176f17",
   "metadata": {},
   "outputs": [
    {
     "data": {
      "image/png": "[encoded data removed]",
      "text/plain": [
       "<Figure size 432x288 with 1 Axes>"
      ]
     },
     "execution_count": 49,
     "metadata": {},
     "output_type": "execute_result"
    }
   ],
   "source": [
    "bar_2.figure"
   ]
  },
  {
   "cell_type": "markdown",
   "id": "92b17d36",
   "metadata": {},
   "source": [
    "### Observation: \n",
    "\n",
    "### The majority of the customer base is defined as 'regular customers', which means that they have placed between 10 - 40 orders."
   ]
  },
  {
   "cell_type": "markdown",
   "id": "d6fa3be8",
   "metadata": {},
   "source": [
    "## Step 5 \n",
    "\n",
    "## Check whether there’s a difference in expenditure (the “prices” column) depending on the hour of the day. (Hint: To check this, you need to use an accurate sample for your line chart!)"
   ]
  },
  {
   "cell_type": "code",
   "execution_count": 50,
   "id": "48402506",
   "metadata": {},
   "outputs": [],
   "source": [
    "# Creating new dataframe with just the columns needed for the line chart (prices, order_time_of_day )\n",
    "\n",
    "df_3 = small[['order_time_of_day','prices']]"
   ]
  },
  {
   "cell_type": "code",
   "execution_count": 51,
   "id": "80487bfd",
   "metadata": {},
   "outputs": [
    {
     "data": {
      "text/html": [
       "<div>\n",
       "<style scoped>\n",
       "    .dataframe tbody tr th:only-of-type {\n",
       "        vertical-align: middle;\n",
       "    }\n",
       "\n",
       "    .dataframe tbody tr th {\n",
       "        vertical-align: top;\n",
       "    }\n",
       "\n",
       "    .dataframe thead th {\n",
       "        text-align: right;\n",
       "    }\n",
       "</style>\n",
       "<table border=\"1\" class=\"dataframe\">\n",
       "  <thead>\n",
       "    <tr style=\"text-align: right;\">\n",
       "      <th></th>\n",
       "      <th>order_time_of_day</th>\n",
       "      <th>prices</th>\n",
       "    </tr>\n",
       "  </thead>\n",
       "  <tbody>\n",
       "    <tr>\n",
       "      <th>0</th>\n",
       "      <td>8</td>\n",
       "      <td>9.0</td>\n",
       "    </tr>\n",
       "    <tr>\n",
       "      <th>2</th>\n",
       "      <td>12</td>\n",
       "      <td>9.0</td>\n",
       "    </tr>\n",
       "    <tr>\n",
       "      <th>3</th>\n",
       "      <td>7</td>\n",
       "      <td>9.0</td>\n",
       "    </tr>\n",
       "    <tr>\n",
       "      <th>6</th>\n",
       "      <td>9</td>\n",
       "      <td>9.0</td>\n",
       "    </tr>\n",
       "    <tr>\n",
       "      <th>10</th>\n",
       "      <td>8</td>\n",
       "      <td>12.5</td>\n",
       "    </tr>\n",
       "    <tr>\n",
       "      <th>...</th>\n",
       "      <td>...</td>\n",
       "      <td>...</td>\n",
       "    </tr>\n",
       "    <tr>\n",
       "      <th>32404841</th>\n",
       "      <td>12</td>\n",
       "      <td>10.7</td>\n",
       "    </tr>\n",
       "    <tr>\n",
       "      <th>32404842</th>\n",
       "      <td>3</td>\n",
       "      <td>10.7</td>\n",
       "    </tr>\n",
       "    <tr>\n",
       "      <th>32404843</th>\n",
       "      <td>1</td>\n",
       "      <td>10.7</td>\n",
       "    </tr>\n",
       "    <tr>\n",
       "      <th>32404849</th>\n",
       "      <td>18</td>\n",
       "      <td>10.7</td>\n",
       "    </tr>\n",
       "    <tr>\n",
       "      <th>32404850</th>\n",
       "      <td>20</td>\n",
       "      <td>10.7</td>\n",
       "    </tr>\n",
       "  </tbody>\n",
       "</table>\n",
       "<p>9721098 rows × 2 columns</p>\n",
       "</div>"
      ],
      "text/plain": [
       "          order_time_of_day  prices\n",
       "0                         8     9.0\n",
       "2                        12     9.0\n",
       "3                         7     9.0\n",
       "6                         9     9.0\n",
       "10                        8    12.5\n",
       "...                     ...     ...\n",
       "32404841                 12    10.7\n",
       "32404842                  3    10.7\n",
       "32404843                  1    10.7\n",
       "32404849                 18    10.7\n",
       "32404850                 20    10.7\n",
       "\n",
       "[9721098 rows x 2 columns]"
      ]
     },
     "execution_count": 51,
     "metadata": {},
     "output_type": "execute_result"
    }
   ],
   "source": [
    "df_3"
   ]
  },
  {
   "cell_type": "code",
   "execution_count": 52,
   "id": "70a3508c",
   "metadata": {},
   "outputs": [
    {
     "data": {
      "image/png": "[encoded data removed]",
      "text/plain": [
       "<Figure size 432x288 with 1 Axes>"
      ]
     },
     "metadata": {
      "needs_background": "light"
     },
     "output_type": "display_data"
    }
   ],
   "source": [
    "# Create a Line Chart after data sampling (on small df - 30% of df)\n",
    "\n",
    "line_2 = sns.lineplot(data = df_3, x = 'order_time_of_day',y = 'prices')"
   ]
  },
  {
   "cell_type": "markdown",
   "id": "90af77bf",
   "metadata": {},
   "source": [
    "### Observation: \n",
    "\n",
    "### We see a higher level of expenditure early in the morning which is also the time where there's a lower number of orders. At the peak hours of 10 - 11am, we see the lowest level of expenditure which indicates that there are higher number of orders with low value at that time. \n"
   ]
  },
  {
   "cell_type": "markdown",
   "id": "fbd27e35",
   "metadata": {},
   "source": [
    "## Step 6\n",
    "\n",
    "\n",
    "## Now that you have information about customers, you need to conduct some exploratory analysis of customer demographics to inform the targeted marketing campaigns. First, determine whether there’s a connection between age and family situation by creating a line chart exploring the connections between age and number of dependents:\n",
    "\n",
    "\n",
    "## In a markdown cell beneath your line chart, describe what the line chart shows.\n"
   ]
  },
  {
   "cell_type": "code",
   "execution_count": 53,
   "id": "24214d63",
   "metadata": {},
   "outputs": [],
   "source": [
    "# Creating new dataframe with just the columns needed for the line chart (age, family situation (number_of_dependents) )\n",
    "\n",
    "df_4 = small[['age','number_of_dependents']]"
   ]
  },
  {
   "cell_type": "code",
   "execution_count": 54,
   "id": "ce582f5d",
   "metadata": {},
   "outputs": [
    {
     "data": {
      "text/html": [
       "<div>\n",
       "<style scoped>\n",
       "    .dataframe tbody tr th:only-of-type {\n",
       "        vertical-align: middle;\n",
       "    }\n",
       "\n",
       "    .dataframe tbody tr th {\n",
       "        vertical-align: top;\n",
       "    }\n",
       "\n",
       "    .dataframe thead th {\n",
       "        text-align: right;\n",
       "    }\n",
       "</style>\n",
       "<table border=\"1\" class=\"dataframe\">\n",
       "  <thead>\n",
       "    <tr style=\"text-align: right;\">\n",
       "      <th></th>\n",
       "      <th>age</th>\n",
       "      <th>number_of_dependents</th>\n",
       "    </tr>\n",
       "  </thead>\n",
       "  <tbody>\n",
       "    <tr>\n",
       "      <th>0</th>\n",
       "      <td>31</td>\n",
       "      <td>3</td>\n",
       "    </tr>\n",
       "    <tr>\n",
       "      <th>2</th>\n",
       "      <td>31</td>\n",
       "      <td>3</td>\n",
       "    </tr>\n",
       "    <tr>\n",
       "      <th>3</th>\n",
       "      <td>31</td>\n",
       "      <td>3</td>\n",
       "    </tr>\n",
       "    <tr>\n",
       "      <th>6</th>\n",
       "      <td>31</td>\n",
       "      <td>3</td>\n",
       "    </tr>\n",
       "    <tr>\n",
       "      <th>10</th>\n",
       "      <td>31</td>\n",
       "      <td>3</td>\n",
       "    </tr>\n",
       "    <tr>\n",
       "      <th>...</th>\n",
       "      <td>...</td>\n",
       "      <td>...</td>\n",
       "    </tr>\n",
       "    <tr>\n",
       "      <th>32404841</th>\n",
       "      <td>25</td>\n",
       "      <td>0</td>\n",
       "    </tr>\n",
       "    <tr>\n",
       "      <th>32404842</th>\n",
       "      <td>25</td>\n",
       "      <td>0</td>\n",
       "    </tr>\n",
       "    <tr>\n",
       "      <th>32404843</th>\n",
       "      <td>25</td>\n",
       "      <td>0</td>\n",
       "    </tr>\n",
       "    <tr>\n",
       "      <th>32404849</th>\n",
       "      <td>25</td>\n",
       "      <td>0</td>\n",
       "    </tr>\n",
       "    <tr>\n",
       "      <th>32404850</th>\n",
       "      <td>25</td>\n",
       "      <td>0</td>\n",
       "    </tr>\n",
       "  </tbody>\n",
       "</table>\n",
       "<p>9721098 rows × 2 columns</p>\n",
       "</div>"
      ],
      "text/plain": [
       "          age  number_of_dependents\n",
       "0          31                     3\n",
       "2          31                     3\n",
       "3          31                     3\n",
       "6          31                     3\n",
       "10         31                     3\n",
       "...       ...                   ...\n",
       "32404841   25                     0\n",
       "32404842   25                     0\n",
       "32404843   25                     0\n",
       "32404849   25                     0\n",
       "32404850   25                     0\n",
       "\n",
       "[9721098 rows x 2 columns]"
      ]
     },
     "execution_count": 54,
     "metadata": {},
     "output_type": "execute_result"
    }
   ],
   "source": [
    "df_4"
   ]
  },
  {
   "cell_type": "code",
   "execution_count": 55,
   "id": "75a446e6",
   "metadata": {},
   "outputs": [
    {
     "data": {
      "image/png": "[encoded data removed]",
      "text/plain": [
       "<Figure size 432x288 with 1 Axes>"
      ]
     },
     "metadata": {
      "needs_background": "light"
     },
     "output_type": "display_data"
    }
   ],
   "source": [
    "# Create a Line Chart after data sampling (on small df - 30% of df)\n",
    "\n",
    "line_3 = sns.lineplot(data = df_4, x = 'age',y = 'number_of_dependents')"
   ]
  },
  {
   "cell_type": "markdown",
   "id": "33d3f936",
   "metadata": {},
   "source": [
    "### Observation:\n",
    "\n",
    "### The Line Chart gives a very fluctuating picture indicating that there is no clear relationship between age and number of dependents. "
   ]
  },
  {
   "cell_type": "markdown",
   "id": "d73ace4f",
   "metadata": {},
   "source": [
    "## Step 7 \n",
    "\n",
    "## You’ll also need to explore whether there’s a connection between age and spending power (income). To visualize this relationship, create a scatterplot using the sns.scatterplot() function.\n",
    "\n",
    "## In a markdown cell beneath your scatterplot, describe what the scatterplot shows.\n"
   ]
  },
  {
   "cell_type": "code",
   "execution_count": 56,
   "id": "1378a032",
   "metadata": {},
   "outputs": [
    {
     "data": {
      "image/png": "[encoded data removed]",
      "text/plain": [
       "<Figure size 432x288 with 1 Axes>"
      ]
     },
     "metadata": {
      "needs_background": "light"
     },
     "output_type": "display_data"
    }
   ],
   "source": [
    "# Create a scatterplot showing connection between age and spending power (income)\n",
    "\n",
    "scatterplot_2 = sns.scatterplot(x = 'age', y = 'income', data = df_ords_prods_customers)"
   ]
  },
  {
   "cell_type": "markdown",
   "id": "5241e86a",
   "metadata": {},
   "source": [
    "### Observation(s): \n",
    "\n",
    "### As per the scatterplot above, we can see the following: \n",
    "### * Age and income have a positive relationship.  \n",
    "### * Age bracket of 20 - 40 years have a maximum income level at 400,000 USD. \n",
    "### * We can see that there are a higher number of customers from the age bracket of 40 - 50 years in the maximum income band of 500,000 - 600,000 USD.  \n",
    "### * The majority of customers are from the 300,000 income bracket as seen by the high density of dots in that area for all age groups. "
   ]
  },
  {
   "cell_type": "markdown",
   "id": "0926727f",
   "metadata": {},
   "source": [
    "## Step 8 \n",
    "\n",
    "## Export your visualizations as “.png” files in your relevant project folder."
   ]
  },
  {
   "cell_type": "code",
   "execution_count": 57,
   "id": "4c8efe84",
   "metadata": {},
   "outputs": [],
   "source": [
    "# Export charts/ visualizations as .png files "
   ]
  },
  {
   "cell_type": "code",
   "execution_count": 58,
   "id": "a01aa9c2",
   "metadata": {},
   "outputs": [],
   "source": [
    "bar.figure.savefig(os.path.join(path, '04 Analysis','Visualizations', '4_9_step2_bar_orders_dow.png'))"
   ]
  },
  {
   "cell_type": "code",
   "execution_count": 59,
   "id": "b6314269",
   "metadata": {},
   "outputs": [],
   "source": [
    "hist.figure.savefig(os.path.join(path, '04 Analysis','Visualizations', '4_9_step2_histogram_prices_bins_25.png'))"
   ]
  },
  {
   "cell_type": "code",
   "execution_count": 60,
   "id": "1f1f2b1b",
   "metadata": {},
   "outputs": [],
   "source": [
    "scatterplot.figure.savefig(os.path.join(path, '04 Analysis','Visualizations', '4_9_step2_scatterplot_prices.png'))"
   ]
  },
  {
   "cell_type": "code",
   "execution_count": 61,
   "id": "9c098962",
   "metadata": {},
   "outputs": [],
   "source": [
    "line.figure.savefig(os.path.join(path, '04 Analysis','Visualizations', '4_9_step2_line_chart_orders_dow.png'))"
   ]
  },
  {
   "cell_type": "code",
   "execution_count": 62,
   "id": "3b55a4df",
   "metadata": {},
   "outputs": [],
   "source": [
    "hist_2.figure.savefig(os.path.join(path, '04 Analysis','Visualizations', '4_9_step3_histogram_otod_bins_50.png'))"
   ]
  },
  {
   "cell_type": "code",
   "execution_count": 63,
   "id": "2e1bb98e",
   "metadata": {},
   "outputs": [],
   "source": [
    "bar_2.figure.savefig(os.path.join(path, '04 Analysis','Visualizations', '4_9_step4_bar_loyalty_flag.png'))"
   ]
  },
  {
   "cell_type": "code",
   "execution_count": 64,
   "id": "f0425c7b",
   "metadata": {},
   "outputs": [],
   "source": [
    "line_2.figure.savefig(os.path.join(path, '04 Analysis','Visualizations', '4_9_step5_line_chart_otod_prices.png'))"
   ]
  },
  {
   "cell_type": "code",
   "execution_count": 65,
   "id": "5bc15290",
   "metadata": {},
   "outputs": [],
   "source": [
    "line_3.figure.savefig(os.path.join(path, '04 Analysis','Visualizations', '4_9_step6_line_chart_age_nodependents.png'))"
   ]
  },
  {
   "cell_type": "code",
   "execution_count": 66,
   "id": "29695438",
   "metadata": {},
   "outputs": [],
   "source": [
    "scatterplot_2.figure.savefig(os.path.join(path, '04 Analysis','Visualizations', '4_9_step7_scatterplot_age_income.png'))"
   ]
  },
  {
   "cell_type": "markdown",
   "id": "e257969d",
   "metadata": {},
   "source": [
    "## Step 9 \n",
    "\n",
    "## Save your notebook from part 2 of this Exercise’s task.\n",
    "\n",
    "### Done"
   ]
  }
 ],
 "metadata": {
  "kernelspec": {
   "display_name": "Python 3 (ipykernel)",
   "language": "python",
   "name": "python3"
  },
  "language_info": {
   "codemirror_mode": {
    "name": "ipython",
    "version": 3
   },
   "file_extension": ".py",
   "mimetype": "text/x-python",
   "name": "python",
   "nbconvert_exporter": "python",
   "pygments_lexer": "ipython3",
   "version": "3.9.12"
  }
 },
 "nbformat": 4,
 "nbformat_minor": 5
}
