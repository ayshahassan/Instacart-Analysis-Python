{
 "cells": [
  {
   "cell_type": "markdown",
   "id": "a01b93f1",
   "metadata": {},
   "source": [
    "# Table of Contents\n",
    "\n",
    "This notebook contains the following: \n",
    "\n",
    "* Importing libraries\n",
    "* Importing data sets \n",
    "* Using markdown mode to find the maximum and data type of the “aisle_id” column and the “department_id” column, respectively"
   ]
  },
  {
   "cell_type": "markdown",
   "id": "c61c0770",
   "metadata": {},
   "source": [
    "# 01. Importing libraries"
   ]
  },
  {
   "cell_type": "code",
   "execution_count": 1,
   "id": "88384031",
   "metadata": {},
   "outputs": [],
   "source": [
    "# Import libraries \n",
    "import pandas as pd\n",
    "import numpy as np\n",
    "import os"
   ]
  },
  {
   "cell_type": "code",
   "execution_count": 25,
   "id": "be39d45a",
   "metadata": {},
   "outputs": [],
   "source": [
    "#Turn project folder path into a string"
   ]
  },
  {
   "cell_type": "code",
   "execution_count": 15,
   "id": "00a46756",
   "metadata": {},
   "outputs": [
    {
     "data": {
      "text/plain": [
       "'/Users/aysha/Documents/Instacart Basket Analysis/'"
      ]
     },
     "execution_count": 15,
     "metadata": {},
     "output_type": "execute_result"
    }
   ],
   "source": [
    "'/Users/aysha/Documents/Instacart Basket Analysis/'"
   ]
  },
  {
   "cell_type": "code",
   "execution_count": 16,
   "id": "3a2fdc62",
   "metadata": {},
   "outputs": [],
   "source": [
    "path = r'/Users/aysha/Documents/Instacart Basket Analysis/'"
   ]
  },
  {
   "cell_type": "code",
   "execution_count": 17,
   "id": "593e60d0",
   "metadata": {},
   "outputs": [
    {
     "data": {
      "text/plain": [
       "'/Users/aysha/Documents/Instacart Basket Analysis/'"
      ]
     },
     "execution_count": 17,
     "metadata": {},
     "output_type": "execute_result"
    }
   ],
   "source": [
    "path"
   ]
  },
  {
   "cell_type": "markdown",
   "id": "188163cd",
   "metadata": {},
   "source": [
    "# 02. Importing the “orders.csv” data set"
   ]
  },
  {
   "cell_type": "code",
   "execution_count": 26,
   "id": "72b7e298",
   "metadata": {},
   "outputs": [],
   "source": [
    "# Importing orders.csv using os library and vars_list omitting eval_set"
   ]
  },
  {
   "cell_type": "code",
   "execution_count": 18,
   "id": "7ac195a9",
   "metadata": {},
   "outputs": [],
   "source": [
    "df = pd.read_csv(os.path.join(path, '02 Data', 'Original Data', 'orders.csv'), index_col = False)"
   ]
  },
  {
   "cell_type": "code",
   "execution_count": 20,
   "id": "acfa3d49",
   "metadata": {},
   "outputs": [],
   "source": [
    "vars_list = ['order_id', 'user_id', 'order_number', 'order_dow', 'order_hour_of_day', 'days_since_prior_order']"
   ]
  },
  {
   "cell_type": "code",
   "execution_count": null,
   "id": "ac552c3a",
   "metadata": {},
   "outputs": [],
   "source": [
    "vars_list"
   ]
  },
  {
   "cell_type": "code",
   "execution_count": 22,
   "id": "99be320d",
   "metadata": {},
   "outputs": [],
   "source": [
    "df = pd.read_csv(os.path.join(path, '02 Data', 'Original Data', 'orders.csv'), usecols = vars_list)"
   ]
  },
  {
   "cell_type": "code",
   "execution_count": 23,
   "id": "2b9fe1fb",
   "metadata": {},
   "outputs": [],
   "source": [
    "# Print the first 5 rows of your dataframe"
   ]
  },
  {
   "cell_type": "code",
   "execution_count": null,
   "id": "12e866f6",
   "metadata": {},
   "outputs": [],
   "source": [
    "df.head()"
   ]
  },
  {
   "cell_type": "markdown",
   "id": "536c89ad",
   "metadata": {},
   "source": [
    "# 03. Importing the products.csv data set "
   ]
  },
  {
   "cell_type": "code",
   "execution_count": 28,
   "id": "df201f6b",
   "metadata": {},
   "outputs": [],
   "source": [
    "# Import the “products.csv” file into Jupyter as df_prods "
   ]
  },
  {
   "cell_type": "code",
   "execution_count": 29,
   "id": "86187e6e",
   "metadata": {},
   "outputs": [],
   "source": [
    "df_prods = pd.read_csv(os.path.join(path, '02 Data', 'Original Data', 'products.csv'), index_col = False)"
   ]
  },
  {
   "cell_type": "code",
   "execution_count": null,
   "id": "d35ec0c7",
   "metadata": {},
   "outputs": [],
   "source": [
    "# Print the first 20 rows and last 35 rows of the df_prods dataframe."
   ]
  },
  {
   "cell_type": "code",
   "execution_count": null,
   "id": "1a5debc7",
   "metadata": {},
   "outputs": [],
   "source": [
    "df_prods.head(20)"
   ]
  },
  {
   "cell_type": "code",
   "execution_count": null,
   "id": "889dea72",
   "metadata": {},
   "outputs": [],
   "source": [
    "df_prods.tail(35)"
   ]
  },
  {
   "cell_type": "code",
   "execution_count": 33,
   "id": "39ce9ee6",
   "metadata": {},
   "outputs": [],
   "source": [
    "# Print the names of the columns in the df_prods dataframe."
   ]
  },
  {
   "cell_type": "code",
   "execution_count": 34,
   "id": "07ab6b5d",
   "metadata": {},
   "outputs": [
    {
     "data": {
      "text/plain": [
       "Index(['product_id', 'product_name', 'aisle_id', 'department_id', 'prices'], dtype='object')"
      ]
     },
     "execution_count": 34,
     "metadata": {},
     "output_type": "execute_result"
    }
   ],
   "source": [
    "df_prods.columns"
   ]
  },
  {
   "cell_type": "code",
   "execution_count": 35,
   "id": "abd40242",
   "metadata": {},
   "outputs": [],
   "source": [
    "# Print the number of rows and columns in the df_prods dataframe."
   ]
  },
  {
   "cell_type": "code",
   "execution_count": null,
   "id": "b0d7820f",
   "metadata": {},
   "outputs": [],
   "source": [
    "df_prods.info()"
   ]
  },
  {
   "cell_type": "markdown",
   "id": "fdd34736",
   "metadata": {},
   "source": [
    "# 04. Using markdown mode to find the maximum value of the “aisle_id” column and the data type of the “department_id” column\n"
   ]
  },
  {
   "cell_type": "code",
   "execution_count": null,
   "id": "0ba77398",
   "metadata": {},
   "outputs": [],
   "source": [
    "df_prods.describe()"
   ]
  },
  {
   "cell_type": "markdown",
   "id": "d3e4403e",
   "metadata": {},
   "source": [
    "### Maximum value of the aisle_id column is **134**"
   ]
  },
  {
   "cell_type": "code",
   "execution_count": null,
   "id": "9d09ec01",
   "metadata": {},
   "outputs": [],
   "source": [
    "df_prods.dtypes "
   ]
  },
  {
   "cell_type": "markdown",
   "id": "41588a8a",
   "metadata": {},
   "source": [
    "### Data type of the “department_id” column is **integer**"
   ]
  }
 ],
 "metadata": {
  "kernelspec": {
   "display_name": "Python 3 (ipykernel)",
   "language": "python",
   "name": "python3"
  },
  "language_info": {
   "codemirror_mode": {
    "name": "ipython",
    "version": 3
   },
   "file_extension": ".py",
   "mimetype": "text/x-python",
   "name": "python",
   "nbconvert_exporter": "python",
   "pygments_lexer": "ipython3",
   "version": "3.9.12"
  }
 },
 "nbformat": 4,
 "nbformat_minor": 5
}
