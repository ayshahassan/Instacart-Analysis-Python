{
 "cells": [
  {
   "cell_type": "markdown",
   "id": "c64fed70",
   "metadata": {},
   "source": [
    "# Table of Contents \n",
    "\n",
    "This notebook contains the following: \n",
    "\n",
    "* Importing libraries \n",
    "* Importing data sets \n",
    "* Identifying and changing variable type in df_ords dataframe to a suitable format \n",
    "* Identifying the busiest hours of the day \n",
    "* Using a data dictionary to find meaning behind department_id column\n",
    "* Creation of subset for breakfast item sales \n",
    "* Creating different subsets from dataframes to present to client \n",
    "* Counting total rows of dataframe \n",
    "* Identifying inaccuracies \n",
    "* Exporting dataframes \n"
   ]
  },
  {
   "cell_type": "markdown",
   "id": "887562fc",
   "metadata": {},
   "source": [
    "# Step 1 - Wrangling Procedures from Exercise"
   ]
  },
  {
   "cell_type": "markdown",
   "id": "a3588259",
   "metadata": {},
   "source": [
    "# 01. Importing libraries"
   ]
  },
  {
   "cell_type": "code",
   "execution_count": null,
   "id": "2aa8129f",
   "metadata": {},
   "outputs": [],
   "source": [
    "# Import libraries\n",
    "import pandas as pd\n",
    "import numpy as np\n",
    "import os "
   ]
  },
  {
   "cell_type": "code",
   "execution_count": null,
   "id": "9e6e1dec",
   "metadata": {},
   "outputs": [],
   "source": [
    "#Turn project folder path into a string\n",
    "'/Users/aysha/Documents/Instacart Basket Analysis/'"
   ]
  },
  {
   "cell_type": "code",
   "execution_count": null,
   "id": "5c855bc6",
   "metadata": {},
   "outputs": [],
   "source": [
    "path = r'/Users/aysha/Documents/Instacart Basket Analysis/'"
   ]
  },
  {
   "cell_type": "code",
   "execution_count": null,
   "id": "b2ef5a4b",
   "metadata": {},
   "outputs": [],
   "source": [
    "path"
   ]
  },
  {
   "cell_type": "code",
   "execution_count": null,
   "id": "9eb75cb2",
   "metadata": {},
   "outputs": [],
   "source": [
    "# Import the “orders.csv” file into Jupyter as df_ords\n",
    "df_ords = pd.read_csv(os.path.join(path, '02 Data', 'Original Data', 'orders.csv'), index_col = False)"
   ]
  },
  {
   "cell_type": "code",
   "execution_count": null,
   "id": "6d477df4",
   "metadata": {},
   "outputs": [],
   "source": [
    "df_ords.head()"
   ]
  },
  {
   "cell_type": "code",
   "execution_count": null,
   "id": "066a8175",
   "metadata": {},
   "outputs": [],
   "source": [
    "#Dropping eval_set from orders.csv\n",
    "df_ords.drop(columns = ['eval_set'])"
   ]
  },
  {
   "cell_type": "code",
   "execution_count": null,
   "id": "33552ed8",
   "metadata": {},
   "outputs": [],
   "source": [
    "# Overwriting df_ords to update it without eval_set\n",
    "df_ords = df_ords.drop(columns = ['eval_set'])"
   ]
  },
  {
   "cell_type": "code",
   "execution_count": null,
   "id": "6f6e47a8",
   "metadata": {},
   "outputs": [],
   "source": [
    "df_ords"
   ]
  },
  {
   "cell_type": "code",
   "execution_count": null,
   "id": "f4cc4c7b",
   "metadata": {},
   "outputs": [],
   "source": [
    "# Check for missing values in column 'days_since_prior_order'\n",
    "df_ords['days_since_prior_order'].value_counts(dropna = False)"
   ]
  },
  {
   "cell_type": "code",
   "execution_count": null,
   "id": "0f92090e",
   "metadata": {},
   "outputs": [],
   "source": [
    "# Renaming columns orders_dow to orders_day_of_week\n",
    "df_ords.rename(columns = {'order_dow' : 'orders_day_of_week'}, inplace = True)"
   ]
  },
  {
   "cell_type": "code",
   "execution_count": null,
   "id": "7bce74e5",
   "metadata": {},
   "outputs": [],
   "source": [
    "df_ords.head()"
   ]
  },
  {
   "cell_type": "code",
   "execution_count": null,
   "id": "9547159c",
   "metadata": {},
   "outputs": [],
   "source": [
    "# Check first 5 rows of df_ords\n",
    "df_ords.head()"
   ]
  },
  {
   "cell_type": "code",
   "execution_count": null,
   "id": "17a5a3a3",
   "metadata": {},
   "outputs": [],
   "source": [
    "df_ords.describe()"
   ]
  },
  {
   "cell_type": "code",
   "execution_count": null,
   "id": "43fffd6d",
   "metadata": {},
   "outputs": [],
   "source": [
    "# Converting data type of order_id to string\n",
    "df_ords['order_id'] = df_ords['order_id'].astype('str')"
   ]
  },
  {
   "cell_type": "code",
   "execution_count": null,
   "id": "4d864330",
   "metadata": {},
   "outputs": [],
   "source": [
    "df_ords['order_id'].dtype"
   ]
  },
  {
   "cell_type": "code",
   "execution_count": null,
   "id": "ea058094",
   "metadata": {},
   "outputs": [],
   "source": [
    "# Importing departments.csv data set using os library\n",
    "df_dep = pd.read_csv(os.path.join(path, '02 Data', 'Original Data', 'departments.csv'), index_col = False)"
   ]
  },
  {
   "cell_type": "code",
   "execution_count": null,
   "id": "258752ee",
   "metadata": {},
   "outputs": [],
   "source": [
    "#Print the first 5 rows\n",
    "df_dep.head()"
   ]
  },
  {
   "cell_type": "code",
   "execution_count": null,
   "id": "ac2b299a",
   "metadata": {},
   "outputs": [],
   "source": [
    "# Changing from wide format to long format\n",
    "df_dep.T"
   ]
  },
  {
   "cell_type": "code",
   "execution_count": null,
   "id": "057bde57",
   "metadata": {},
   "outputs": [],
   "source": [
    "# Creating a new dataframe from tranposed version\n",
    "df_dep_t = df_dep.T"
   ]
  },
  {
   "cell_type": "code",
   "execution_count": null,
   "id": "df848d6e",
   "metadata": {},
   "outputs": [],
   "source": [
    "df_dep_t"
   ]
  },
  {
   "cell_type": "code",
   "execution_count": null,
   "id": "f4d6e5b9",
   "metadata": {},
   "outputs": [],
   "source": [
    "# Adding index to the transposed dataframe\n",
    "df_dep_t.reset_index()"
   ]
  },
  {
   "cell_type": "code",
   "execution_count": null,
   "id": "3c3b7d4f",
   "metadata": {},
   "outputs": [],
   "source": [
    "# Take the first row of df_dep_t for the header \n",
    "new_header = df_dep_t.iloc[0]"
   ]
  },
  {
   "cell_type": "code",
   "execution_count": null,
   "id": "213a909d",
   "metadata": {},
   "outputs": [],
   "source": [
    "new_header"
   ]
  },
  {
   "cell_type": "code",
   "execution_count": null,
   "id": "7e4669da",
   "metadata": {},
   "outputs": [],
   "source": [
    "# Create new dataframe copying only rows beyond the first row\n",
    "df_dep_t_new = df_dep_t[1:]"
   ]
  },
  {
   "cell_type": "code",
   "execution_count": null,
   "id": "c6bf3d26",
   "metadata": {},
   "outputs": [],
   "source": [
    "df_dep_t_new"
   ]
  },
  {
   "cell_type": "code",
   "execution_count": null,
   "id": "b39a911b",
   "metadata": {},
   "outputs": [],
   "source": [
    "# Set the header row as the df header \n",
    "df_dep_t_new.columns = new_header"
   ]
  },
  {
   "cell_type": "code",
   "execution_count": null,
   "id": "13268d27",
   "metadata": {},
   "outputs": [],
   "source": [
    "df_dep_t_new"
   ]
  },
  {
   "cell_type": "code",
   "execution_count": null,
   "id": "a6cdbae8",
   "metadata": {},
   "outputs": [],
   "source": [
    "# Turn dataframe deps (departments.csv) into data dictionary\n",
    "data_dict = df_dep_t_new.to_dict('index')"
   ]
  },
  {
   "cell_type": "code",
   "execution_count": null,
   "id": "bb67f95c",
   "metadata": {},
   "outputs": [],
   "source": [
    "data_dict"
   ]
  },
  {
   "cell_type": "code",
   "execution_count": null,
   "id": "a33566f6",
   "metadata": {},
   "outputs": [],
   "source": [
    "# Import the “products.csv” file into Jupyter as df_prods \n",
    "df_prods = pd.read_csv(os.path.join(path, '02 Data', 'Original Data', 'products.csv'), index_col = False)"
   ]
  },
  {
   "cell_type": "code",
   "execution_count": null,
   "id": "72d0e83e",
   "metadata": {},
   "outputs": [],
   "source": [
    "df_prods.head()"
   ]
  },
  {
   "cell_type": "code",
   "execution_count": null,
   "id": "a3617c95",
   "metadata": {},
   "outputs": [],
   "source": [
    "print(data_dict.get('19'))"
   ]
  },
  {
   "cell_type": "code",
   "execution_count": null,
   "id": "a5cf95e4",
   "metadata": {},
   "outputs": [],
   "source": [
    "# Create subset of df_prods dataframe\n",
    "df_snacks =  df_prods[df_prods['department_id']==19]"
   ]
  },
  {
   "cell_type": "code",
   "execution_count": null,
   "id": "e09a0c70",
   "metadata": {},
   "outputs": [],
   "source": [
    "df_prods['department_id']==19"
   ]
  },
  {
   "cell_type": "code",
   "execution_count": null,
   "id": "738ed992",
   "metadata": {},
   "outputs": [],
   "source": [
    "df_snacks.head()"
   ]
  },
  {
   "cell_type": "code",
   "execution_count": null,
   "id": "87e9d3a3",
   "metadata": {},
   "outputs": [],
   "source": [
    "# Another way of creating subset of dataframe (df)\n",
    "df_snacks_2 = df_prods.loc[df_prods['department_id'] == 19]"
   ]
  },
  {
   "cell_type": "code",
   "execution_count": null,
   "id": "e458cafb",
   "metadata": {},
   "outputs": [],
   "source": [
    "df_snacks_2"
   ]
  },
  {
   "cell_type": "code",
   "execution_count": null,
   "id": "2e73fb3e",
   "metadata": {},
   "outputs": [],
   "source": [
    "# And another way of creating subset of dataframe\n",
    "df_snacks_3 = df_prods.loc[df_prods['department_id'].isin([19])]"
   ]
  },
  {
   "cell_type": "code",
   "execution_count": null,
   "id": "fcadf7ad",
   "metadata": {},
   "outputs": [],
   "source": [
    "df_snacks_3"
   ]
  },
  {
   "cell_type": "markdown",
   "id": "d3f75ecc",
   "metadata": {},
   "source": [
    "# 02. Procedures for Task (Steps 2 - 10)"
   ]
  },
  {
   "cell_type": "markdown",
   "id": "47882a48",
   "metadata": {},
   "source": [
    "### Step 2 - Find another identifier variable in the df_ords dataframe that doesn’t need to be included in your analysis as a numeric variable and change it to a suitable format."
   ]
  },
  {
   "cell_type": "code",
   "execution_count": null,
   "id": "2109a5d2",
   "metadata": {},
   "outputs": [],
   "source": [
    "# Step 2 - Converting data type of user_id to string\n",
    "df_ords['user_id'] = df_ords['user_id'].astype('str')"
   ]
  },
  {
   "cell_type": "code",
   "execution_count": null,
   "id": "ee204682",
   "metadata": {},
   "outputs": [],
   "source": [
    "df_ords['user_id'].dtype"
   ]
  },
  {
   "cell_type": "markdown",
   "id": "ac5cee82",
   "metadata": {},
   "source": [
    "### Step 3 - Look for a variable in your df_ords dataframe with an unintuitive name and change its name without overwriting the data frame."
   ]
  },
  {
   "cell_type": "code",
   "execution_count": null,
   "id": "2f079389",
   "metadata": {},
   "outputs": [],
   "source": [
    "#Step 3 - Overwriting / Renaming the variable order_hour_of_day to order_time_of_day\n",
    "df_ords.rename(columns = {'order_hour_of_day' : 'order_time_of_day'}, inplace = True)"
   ]
  },
  {
   "cell_type": "code",
   "execution_count": null,
   "id": "d91d559a",
   "metadata": {},
   "outputs": [],
   "source": [
    "# Check first 5 rows of df_ords\n",
    "df_ords.head()"
   ]
  },
  {
   "cell_type": "markdown",
   "id": "8ae4d07b",
   "metadata": {},
   "source": [
    "### Step 4 - Your client wants to know what the busiest hour is for placing orders. Find the frequency of the corresponding variable and share your findings."
   ]
  },
  {
   "cell_type": "code",
   "execution_count": null,
   "id": "c980b256",
   "metadata": {},
   "outputs": [],
   "source": [
    "# Step 4 - Busiest hour for placing orders\n",
    "df_ords['order_time_of_day'].describe()"
   ]
  },
  {
   "cell_type": "code",
   "execution_count": null,
   "id": "35ff052d",
   "metadata": {},
   "outputs": [],
   "source": [
    "# Converting the data type for variable order_time_of_day from a float to integer\n",
    "df_ords['order_time_of_day'] = df_ords['order_time_of_day'].astype('int')"
   ]
  },
  {
   "cell_type": "code",
   "execution_count": null,
   "id": "3b1eb20b",
   "metadata": {},
   "outputs": [],
   "source": [
    "df_ords['order_time_of_day'].dtype"
   ]
  },
  {
   "cell_type": "code",
   "execution_count": null,
   "id": "0fef538a",
   "metadata": {},
   "outputs": [],
   "source": [
    "# Check frequency\n",
    "df_ords['order_time_of_day'].value_counts(dropna = False)"
   ]
  },
  {
   "cell_type": "markdown",
   "id": "e4f428a8",
   "metadata": {},
   "source": [
    "### Answer: The busiest time of day is at 10 with 288,418 orders placed at that time. "
   ]
  },
  {
   "cell_type": "markdown",
   "id": "5e8c8ab7",
   "metadata": {},
   "source": [
    "### Step 5 - Determine the meaning behind a value of 4 in the \"department_id\" column within the df_prods dataframe using a data dictionary."
   ]
  },
  {
   "cell_type": "code",
   "execution_count": null,
   "id": "4beb4c74",
   "metadata": {},
   "outputs": [],
   "source": [
    "# Meaning behind 4 in the department_id\n",
    "print(data_dict.get('4'))"
   ]
  },
  {
   "cell_type": "markdown",
   "id": "299f34b2",
   "metadata": {},
   "source": [
    "### Step 6 - The sales team in your client’s organization wants to know more about breakfast item sales. Create a subset containing only the required information."
   ]
  },
  {
   "cell_type": "code",
   "execution_count": null,
   "id": "1b16e650",
   "metadata": {},
   "outputs": [],
   "source": [
    "# Subset for breakfast item sales\n",
    "df_breakfast =  df_prods[df_prods['department_id']==14]"
   ]
  },
  {
   "cell_type": "code",
   "execution_count": null,
   "id": "a5dec850",
   "metadata": {},
   "outputs": [],
   "source": [
    "df_breakfast"
   ]
  },
  {
   "cell_type": "markdown",
   "id": "36bce5e3",
   "metadata": {},
   "source": [
    "### Step 7 - They’d also like to see details about customers who might be throwing dinner parties. Your task is to find all observations from the entire dataframe that include items from the following departments: alcohol, deli, beverages, and meat/seafood. You’ll need to present this subset to your client."
   ]
  },
  {
   "cell_type": "code",
   "execution_count": null,
   "id": "69172646",
   "metadata": {},
   "outputs": [],
   "source": [
    "# Subset for alcohol, deli, beverages and meat seafood item sales\n",
    "df_alcohol =  df_prods[df_prods['department_id']==5]\n",
    "df_deli =  df_prods[df_prods['department_id']==20]\n",
    "df_beverages =  df_prods[df_prods['department_id']==7]\n",
    "df_meat_seafood =  df_prods[df_prods['department_id']==12]"
   ]
  },
  {
   "cell_type": "code",
   "execution_count": null,
   "id": "07fadb13",
   "metadata": {},
   "outputs": [],
   "source": [
    "df_alcohol"
   ]
  },
  {
   "cell_type": "code",
   "execution_count": null,
   "id": "f59f413e",
   "metadata": {},
   "outputs": [],
   "source": [
    "df_deli"
   ]
  },
  {
   "cell_type": "code",
   "execution_count": null,
   "id": "c9b94b07",
   "metadata": {},
   "outputs": [],
   "source": [
    "df_beverages"
   ]
  },
  {
   "cell_type": "code",
   "execution_count": null,
   "id": "fbbf3a6b",
   "metadata": {},
   "outputs": [],
   "source": [
    "df_meat_seafood"
   ]
  },
  {
   "cell_type": "markdown",
   "id": "dca1474e",
   "metadata": {},
   "source": [
    "### Step 8 - It’s important that you keep track of total counts in your dataframes. How many rows does the last dataframe you created have?"
   ]
  },
  {
   "cell_type": "code",
   "execution_count": null,
   "id": "2d629afa",
   "metadata": {},
   "outputs": [],
   "source": [
    "# Subset for dataframe dinner \n",
    "df_dinner = df_prods.loc[df_prods['department_id'].isin([5,20,7,12])]"
   ]
  },
  {
   "cell_type": "code",
   "execution_count": null,
   "id": "d8dfa23f",
   "metadata": {},
   "outputs": [],
   "source": [
    "df_dinner"
   ]
  },
  {
   "cell_type": "markdown",
   "id": "b47c62a8",
   "metadata": {},
   "source": [
    "### Step 9 - Someone from the data engineers team in Instacart thinks they’ve spotted something strange about the customer with a \"user_id\" of “1.” Extract all the information you can about this user."
   ]
  },
  {
   "cell_type": "code",
   "execution_count": null,
   "id": "498170e1",
   "metadata": {},
   "outputs": [],
   "source": [
    "# Extracting information about the customer with user_id of 1\n",
    "df_ords['user_id']==1"
   ]
  },
  {
   "cell_type": "code",
   "execution_count": null,
   "id": "a17c7184",
   "metadata": {
    "scrolled": true
   },
   "outputs": [],
   "source": [
    "df_ords.head()"
   ]
  },
  {
   "cell_type": "code",
   "execution_count": null,
   "id": "9caffd21",
   "metadata": {},
   "outputs": [],
   "source": [
    "# Extracting information about the customer with user_id of 1\n",
    "df_ords_user_id_1 = df_ords[df_ords['user_id']=='1']"
   ]
  },
  {
   "cell_type": "code",
   "execution_count": null,
   "id": "48c76e2e",
   "metadata": {},
   "outputs": [],
   "source": [
    "df_ords_user_id_1"
   ]
  },
  {
   "cell_type": "markdown",
   "id": "97172549",
   "metadata": {},
   "source": [
    "### Step 10 - You also need to provide some details about this user’s behavior. What basic stats can you provide based on the information you have?"
   ]
  },
  {
   "cell_type": "code",
   "execution_count": null,
   "id": "81e8f3ab",
   "metadata": {},
   "outputs": [],
   "source": [
    "# Some basic stats on customer with user_id as 1\n",
    "df_ords_user_id_1.describe()"
   ]
  },
  {
   "cell_type": "markdown",
   "id": "4b952b0e",
   "metadata": {},
   "source": [
    "### Step 11 - Check the organization and structure of your notebook. Be sure to include section headings and code comments."
   ]
  },
  {
   "cell_type": "markdown",
   "id": "65a324ea",
   "metadata": {},
   "source": [
    "### Step 12 - Export your df_ords dataframe as “orders_wrangled.csv” in your “Prepared Data” folder."
   ]
  },
  {
   "cell_type": "code",
   "execution_count": null,
   "id": "da9f3941",
   "metadata": {},
   "outputs": [],
   "source": [
    "# Exporting dataframe as .csv file\n",
    "df_ords.to_csv(os.path.join(path, '02 Data','Prepared Data', 'orders_wrangled.csv'))"
   ]
  },
  {
   "cell_type": "markdown",
   "id": "a4e85478",
   "metadata": {},
   "source": [
    "### Step 13 - Export the df_dep_t_new dataframe as “departments_wrangled.csv” in your “Prepared Data” folder so that you have a “.csv” file of your departments data in the correct format."
   ]
  },
  {
   "cell_type": "code",
   "execution_count": null,
   "id": "377dcd95",
   "metadata": {},
   "outputs": [],
   "source": [
    "df_dep_t_new"
   ]
  },
  {
   "cell_type": "code",
   "execution_count": null,
   "id": "fd711739",
   "metadata": {},
   "outputs": [],
   "source": [
    "# Exporting dataframe as .csv file\n",
    "df_dep_t_new.to_csv(os.path.join(path, '02 Data','Prepared Data', 'departments_wrangled.csv'))"
   ]
  },
  {
   "cell_type": "code",
   "execution_count": null,
   "id": "4fac6c3a",
   "metadata": {},
   "outputs": [],
   "source": []
  }
 ],
 "metadata": {
  "kernelspec": {
   "display_name": "Python 3 (ipykernel)",
   "language": "python",
   "name": "python3"
  },
  "language_info": {
   "codemirror_mode": {
    "name": "ipython",
    "version": 3
   },
   "file_extension": ".py",
   "mimetype": "text/x-python",
   "name": "python",
   "nbconvert_exporter": "python",
   "pygments_lexer": "ipython3",
   "version": "3.9.12"
  }
 },
 "nbformat": 4,
 "nbformat_minor": 5
}
